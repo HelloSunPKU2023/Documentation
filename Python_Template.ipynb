{
 "cells": [
  {
   "cell_type": "markdown",
   "id": "9466c0b6",
   "metadata": {
    "heading_collapsed": true
   },
   "source": [
    "# Load Packages"
   ]
  },
  {
   "cell_type": "code",
   "execution_count": null,
   "id": "f55c10ec",
   "metadata": {
    "ExecuteTime": {
     "end_time": "2023-05-24T03:16:20.475802Z",
     "start_time": "2023-05-24T03:16:18.859542Z"
    },
    "hidden": true
   },
   "outputs": [],
   "source": [
    "import numpy as np\n",
    "import pandas as pd\n",
    "\n",
    "# visualization\n",
    "import matplotlib.pyplot as plt\n",
    "import seaborn as sns\n",
    "\n",
    "# Preprocessing\n",
    "from sklearn.preprocessing import OneHotEncoder, MinMaxScaler, OrdinalEncoder\n",
    "from sklearn.impute import SimpleImputer\n",
    "\n",
    "# Pipeline\n",
    "from sklearn import set_config; set_config(display='diagram')\n",
    "from sklearn.pipeline import Pipeline, make_pipeline\n",
    "from sklearn.compose import ColumnTransformer, make_column_transformer\n",
    "\n",
    "# Model\n",
    "from sklearn.model_selection import cross_val_score, cross_validate\n",
    "from sklearn.model_selection import GridSearchCV, RandomizedSearchCV\n",
    "from sklearn.tree import DecisionTreeRegressor\n",
    "from sklearn.linear_model import LogisticRegression\n",
    "from sklearn.neighbors import KNeighborsClassifier\n",
    "from sklearn.neighbors import KNeighborsRegressor"
   ]
  },
  {
   "cell_type": "markdown",
   "id": "ec0cfa2f",
   "metadata": {
    "heading_collapsed": true
   },
   "source": [
    "# Load Data"
   ]
  },
  {
   "cell_type": "code",
   "execution_count": null,
   "id": "b8f988b8",
   "metadata": {
    "ExecuteTime": {
     "end_time": "2023-05-24T03:17:06.755603Z",
     "start_time": "2023-05-24T03:17:06.731105Z"
    },
    "hidden": true
   },
   "outputs": [],
   "source": [
    "# set data source\n",
    "data_url = 'data/train.csv'\n",
    "\n",
    "# set index column\n",
    "index_col = 'PassengerId'\n",
    "\n",
    "# load data\n",
    "data = pd.read_csv(data_url, index_col=index_col)\n",
    "data.head(5)"
   ]
  },
  {
   "cell_type": "code",
   "execution_count": null,
   "id": "0ec46b23",
   "metadata": {
    "ExecuteTime": {
     "end_time": "2023-05-24T03:17:07.826313Z",
     "start_time": "2023-05-24T03:17:07.820410Z"
    },
    "hidden": true
   },
   "outputs": [],
   "source": [
    "# define the target column in the train dataset\n",
    "target = 'Survived'\n",
    "\n",
    "# split columns into X and y\n",
    "X = data.drop(columns = target).copy()\n",
    "y = data[target]\n",
    "\n",
    "# check the shape of the data\n",
    "print(f'shape of X is \\033[94m{X.shape}\\033[0m, shape of y is \\033[94m{y.shape}\\033[0m')"
   ]
  },
  {
   "cell_type": "code",
   "execution_count": null,
   "id": "2d330426",
   "metadata": {
    "ExecuteTime": {
     "end_time": "2023-05-24T03:24:20.846562Z",
     "start_time": "2023-05-24T03:24:20.838822Z"
    },
    "hidden": true
   },
   "outputs": [],
   "source": [
    "#Categorize features\n",
    "\n",
    "features_all = X.columns.to_list()\n",
    "columns_to_drop = ['Name', 'Ticket', 'Cabin']\n",
    "\n",
    "X = X.drop(columns=columns_to_drop)\n",
    "\n",
    "feature_numerical = X.select_dtypes(exclude='object').columns.to_list()\n",
    "\n",
    "feature_categorical = X.select_dtypes(include='object').columns.to_list()\n",
    "\n",
    "feature_categorical_Ordinal = []\n",
    "\n",
    "feature_categorical_OneHot = [key for key in feature_categorical \n",
    "                              if key not in feature_categorical_Ordinal]\n",
    "\n",
    "print(f'All features (\\033[94m{len(features_all)}\\\n",
    "\\033[0m): \\033[94m{features_all}\\033[0m')\n",
    "\n",
    "print(f'Features to drop (\\033[91m{len(columns_to_drop)}\\\n",
    "\\033[0m): \\033[94m{columns_to_drop}\\033[0m')\n",
    "\n",
    "print(f'Numercial features (\\033[94m{len(feature_numerical)}\\\n",
    "\\033[0m): \\033[94m{feature_numerical}\\033[0m')\n",
    "\n",
    "print(f'Categorical cat features (\\033[94m{len(feature_categorical)}\\\n",
    "\\033[0m): \\033[94m{feature_categorical}\\033[0m')\n",
    "\n",
    "print(f'Ordinal cat features (\\033[94m{len(feature_categorical_Ordinal)}\\\n",
    "\\033[0m): \\033[94m{feature_categorical_Ordinal}\\033[0m')\n",
    "\n",
    "print(f'None-ordinal cat features (\\033[94m{len(feature_categorical_OneHot)}\\\n",
    "\\033[0m): \\033[94m{feature_categorical_OneHot}\\033[0m')\n"
   ]
  },
  {
   "cell_type": "markdown",
   "id": "92d3009a",
   "metadata": {
    "hidden": true
   },
   "source": [
    "## Data Exploration"
   ]
  },
  {
   "cell_type": "markdown",
   "id": "46e4e86a",
   "metadata": {
    "hidden": true
   },
   "source": [
    "### check distribution of catigorical data"
   ]
  },
  {
   "cell_type": "code",
   "execution_count": null,
   "id": "df036e03",
   "metadata": {
    "ExecuteTime": {
     "end_time": "2023-05-24T03:24:40.934774Z",
     "start_time": "2023-05-24T03:24:40.695263Z"
    },
    "hidden": true,
    "scrolled": false
   },
   "outputs": [],
   "source": [
    "# this need to be improved by a better way to support quick look\n",
    "for column in feature_categorical:\n",
    "    # Create a countplot\n",
    "    plt.figure()\n",
    "    sns.histplot(data=X, x=column, kde=True)\n",
    "    plt.title(column + ' Histogram')\n",
    "    plt.xlabel(column)\n",
    "    plt.ylabel('Frequency')\n",
    "    plt.show()"
   ]
  },
  {
   "cell_type": "markdown",
   "id": "bfffd311",
   "metadata": {
    "heading_collapsed": true
   },
   "source": [
    "# Data Preprocessing"
   ]
  },
  {
   "cell_type": "code",
   "execution_count": null,
   "id": "0e2d6bf9",
   "metadata": {
    "ExecuteTime": {
     "end_time": "2023-05-24T03:25:48.871400Z",
     "start_time": "2023-05-24T03:25:48.837423Z"
    },
    "hidden": true
   },
   "outputs": [],
   "source": [
    "#transformer for numerical data\n",
    "preproc_num = make_pipeline(\n",
    "    SimpleImputer(strategy='mean'),\n",
    "    MinMaxScaler()\n",
    ")\n",
    "\n",
    "preproc_cat_ordinal = make_pipeline(\n",
    "    SimpleImputer(strategy='most_frequent')\n",
    ")\n",
    "\n",
    "preproc_cat_onehot = make_pipeline(\n",
    "    SimpleImputer(strategy='most_frequent'),\n",
    "    OneHotEncoder(\n",
    "        drop = 'if_binary',\n",
    "        sparse_output=False,\n",
    "        handle_unknown='ignore')\n",
    ")\n",
    "\n",
    "preproc_pipeline = make_column_transformer(\n",
    "    (preproc_num, feature_numerical),\n",
    "    (preproc_cat_ordinal, feature_categorical_Ordinal),\n",
    "    (preproc_cat_onehot, feature_categorical_OneHot),\n",
    "    remainder='passthrough'\n",
    ")\n",
    "\n",
    "display(preproc_pipeline)"
   ]
  },
  {
   "cell_type": "code",
   "execution_count": null,
   "id": "a52bb6d5",
   "metadata": {
    "ExecuteTime": {
     "end_time": "2023-05-24T03:25:51.760089Z",
     "start_time": "2023-05-24T03:25:51.717741Z"
    },
    "hidden": true
   },
   "outputs": [],
   "source": [
    "preproc_pipeline.fit(X)"
   ]
  },
  {
   "cell_type": "markdown",
   "id": "eef9ec6f",
   "metadata": {
    "heading_collapsed": true
   },
   "source": [
    "# Model"
   ]
  },
  {
   "cell_type": "markdown",
   "id": "8b042141",
   "metadata": {
    "ExecuteTime": {
     "end_time": "2023-05-24T01:44:31.104233Z",
     "start_time": "2023-05-24T01:44:31.100992Z"
    },
    "heading_collapsed": true,
    "hidden": true
   },
   "source": [
    "## Cross validation"
   ]
  },
  {
   "cell_type": "code",
   "execution_count": null,
   "id": "6c4504dc",
   "metadata": {
    "ExecuteTime": {
     "end_time": "2023-05-24T03:25:57.400699Z",
     "start_time": "2023-05-24T03:25:55.399608Z"
    },
    "hidden": true
   },
   "outputs": [],
   "source": [
    "cv_model = KNeighborsClassifier()\n",
    "cv_baseline = make_pipeline(\n",
    "    preproc_pipeline,\n",
    "    cv_model\n",
    ")\n",
    "\n",
    "cv_result = cross_val_score(\n",
    "    cv_baseline,\n",
    "    X, \n",
    "    y, \n",
    "    cv=5,\n",
    "#     scoring='',\n",
    "    n_jobs=-1)\n",
    "score_baseline=np.mean(cv_result)\n",
    "print(f'Baseline score: \\033[94m{score_baseline}\\033[0m \\nof {type(cv_model)} model ')"
   ]
  },
  {
   "cell_type": "markdown",
   "id": "ac8a2beb",
   "metadata": {
    "hidden": true
   },
   "source": [
    "## Grid/Random Search"
   ]
  },
  {
   "cell_type": "markdown",
   "id": "38f1b8bc",
   "metadata": {
    "ExecuteTime": {
     "end_time": "2023-05-24T02:08:25.822466Z",
     "start_time": "2023-05-24T02:08:25.819259Z"
    },
    "heading_collapsed": true,
    "hidden": true
   },
   "source": [
    "### KNN"
   ]
  },
  {
   "cell_type": "code",
   "execution_count": null,
   "id": "90adfc3e",
   "metadata": {
    "ExecuteTime": {
     "end_time": "2023-05-24T03:26:15.683143Z",
     "start_time": "2023-05-24T03:26:13.935025Z"
    },
    "hidden": true,
    "scrolled": true
   },
   "outputs": [],
   "source": [
    "knn_pipeline = make_pipeline(\n",
    "    preproc_pipeline, \n",
    "    KNeighborsRegressor()\n",
    ")\n",
    "\n",
    "knn_param_grid={\n",
    "    '__n_neighbors': list(range(1,20,1))\n",
    "}\n",
    "knn_search = GridSearchCV(knn_pipeline, \n",
    "                      knn_param_grid, \n",
    "                      cv=5, \n",
    "                      scoring='r2', \n",
    "                      n_jobs=-1)\n",
    "knn_search.fit(X, y)"
   ]
  },
  {
   "cell_type": "code",
   "execution_count": null,
   "id": "7e6ee6f9",
   "metadata": {
    "ExecuteTime": {
     "end_time": "2023-05-24T02:08:13.137643Z",
     "start_time": "2023-05-24T02:08:13.118713Z"
    },
    "hidden": true
   },
   "outputs": [],
   "source": [
    "knn_best_model = knn_search.best_estimator_\n",
    "print(knn_search.best_score_)\n",
    "print(knn_search.best_params_)"
   ]
  },
  {
   "cell_type": "markdown",
   "id": "455db35a",
   "metadata": {
    "heading_collapsed": true,
    "hidden": true
   },
   "source": [
    "### Random Foreast"
   ]
  },
  {
   "cell_type": "code",
   "execution_count": null,
   "id": "958c9977",
   "metadata": {
    "hidden": true
   },
   "outputs": [],
   "source": []
  },
  {
   "cell_type": "markdown",
   "id": "5393935e",
   "metadata": {
    "heading_collapsed": true,
    "hidden": true
   },
   "source": [
    "### SVM"
   ]
  },
  {
   "cell_type": "code",
   "execution_count": null,
   "id": "d18d39fb",
   "metadata": {
    "hidden": true
   },
   "outputs": [],
   "source": []
  },
  {
   "cell_type": "code",
   "execution_count": null,
   "id": "2d48188a",
   "metadata": {
    "hidden": true
   },
   "outputs": [],
   "source": []
  }
 ],
 "metadata": {
  "kernelspec": {
   "display_name": "Python 3 (ipykernel)",
   "language": "python",
   "name": "python3"
  },
  "language_info": {
   "codemirror_mode": {
    "name": "ipython",
    "version": 3
   },
   "file_extension": ".py",
   "mimetype": "text/x-python",
   "name": "python",
   "nbconvert_exporter": "python",
   "pygments_lexer": "ipython3",
   "version": "3.10.6"
  },
  "toc": {
   "base_numbering": 1,
   "nav_menu": {},
   "number_sections": true,
   "sideBar": true,
   "skip_h1_title": false,
   "title_cell": "Table of Contents",
   "title_sidebar": "Contents",
   "toc_cell": false,
   "toc_position": {},
   "toc_section_display": true,
   "toc_window_display": true
  }
 },
 "nbformat": 4,
 "nbformat_minor": 5
}

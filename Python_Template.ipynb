{
 "cells": [
  {
   "cell_type": "markdown",
   "id": "9466c0b6",
   "metadata": {
    "heading_collapsed": true
   },
   "source": [
    "# Load Packages"
   ]
  },
  {
   "cell_type": "code",
   "execution_count": 1,
   "id": "f55c10ec",
   "metadata": {
    "ExecuteTime": {
     "end_time": "2023-05-25T15:44:41.848503Z",
     "start_time": "2023-05-25T15:44:39.978686Z"
    },
    "hidden": true
   },
   "outputs": [],
   "source": [
    "import numpy as np\n",
    "import pandas as pd\n",
    "from scipy import stats\n",
    "\n",
    "# visualization\n",
    "import matplotlib.pyplot as plt\n",
    "import seaborn as sns\n",
    "\n",
    "# Preprocessing\n",
    "from sklearn.preprocessing import OneHotEncoder, MinMaxScaler, OrdinalEncoder, StandardScaler, RobustScaler\n",
    "from sklearn.impute import SimpleImputer\n",
    "\n",
    "# Pipeline\n",
    "from sklearn.pipeline import Pipeline, make_pipeline\n",
    "from sklearn.compose import ColumnTransformer, make_column_transformer\n",
    "\n",
    "# Model\n",
    "from sklearn.model_selection import train_test_split\n",
    "from sklearn.model_selection import cross_val_score, cross_validate\n",
    "from sklearn.model_selection import GridSearchCV, RandomizedSearchCV\n",
    "\n",
    "from sklearn.linear_model import Ridge, Lasso, LinearRegression,LogisticRegression\n",
    "from sklearn.neighbors import KNeighborsClassifier\n",
    "from sklearn.neighbors import KNeighborsRegressor\n",
    "from sklearn.svm import SVC, SVR\n",
    "from sklearn.tree import DecisionTreeRegressor\n",
    "from sklearn.ensemble import RandomForestRegressor\n",
    "from sklearn.decomposition import PCA\n",
    "from sklearn.cluster import KMeans\n",
    "\n",
    "from sklearn import set_config\n",
    "# set_config(display='diagram')\n",
    "\n",
    "import warnings\n",
    "# warnings.filterwarnings('ignore')"
   ]
  },
  {
   "cell_type": "markdown",
   "id": "ec0cfa2f",
   "metadata": {
    "heading_collapsed": true
   },
   "source": [
    "# Load Data"
   ]
  },
  {
   "cell_type": "markdown",
   "id": "91ef903d",
   "metadata": {
    "ExecuteTime": {
     "end_time": "2023-05-25T15:47:12.926543Z",
     "start_time": "2023-05-25T15:47:12.922010Z"
    },
    "hidden": true
   },
   "source": [
    "> Data Readme\n",
    "https://"
   ]
  },
  {
   "cell_type": "markdown",
   "id": "9fc1221a",
   "metadata": {
    "ExecuteTime": {
     "end_time": "2023-05-24T06:01:25.611302Z",
     "start_time": "2023-05-24T06:01:25.608291Z"
    },
    "heading_collapsed": true,
    "hidden": true
   },
   "source": [
    "## Load RAW data"
   ]
  },
  {
   "cell_type": "code",
   "execution_count": 2,
   "id": "b8f988b8",
   "metadata": {
    "ExecuteTime": {
     "end_time": "2023-05-25T15:45:34.287201Z",
     "start_time": "2023-05-25T15:45:34.259057Z"
    },
    "hidden": true
   },
   "outputs": [
    {
     "data": {
      "text/html": [
       "<div>\n",
       "<style scoped>\n",
       "    .dataframe tbody tr th:only-of-type {\n",
       "        vertical-align: middle;\n",
       "    }\n",
       "\n",
       "    .dataframe tbody tr th {\n",
       "        vertical-align: top;\n",
       "    }\n",
       "\n",
       "    .dataframe thead th {\n",
       "        text-align: right;\n",
       "    }\n",
       "</style>\n",
       "<table border=\"1\" class=\"dataframe\">\n",
       "  <thead>\n",
       "    <tr style=\"text-align: right;\">\n",
       "      <th></th>\n",
       "      <th>Survived</th>\n",
       "      <th>Pclass</th>\n",
       "      <th>Name</th>\n",
       "      <th>Sex</th>\n",
       "      <th>Age</th>\n",
       "      <th>SibSp</th>\n",
       "      <th>Parch</th>\n",
       "      <th>Ticket</th>\n",
       "      <th>Fare</th>\n",
       "      <th>Cabin</th>\n",
       "      <th>Embarked</th>\n",
       "    </tr>\n",
       "    <tr>\n",
       "      <th>PassengerId</th>\n",
       "      <th></th>\n",
       "      <th></th>\n",
       "      <th></th>\n",
       "      <th></th>\n",
       "      <th></th>\n",
       "      <th></th>\n",
       "      <th></th>\n",
       "      <th></th>\n",
       "      <th></th>\n",
       "      <th></th>\n",
       "      <th></th>\n",
       "    </tr>\n",
       "  </thead>\n",
       "  <tbody>\n",
       "    <tr>\n",
       "      <th>1</th>\n",
       "      <td>0</td>\n",
       "      <td>3</td>\n",
       "      <td>Braund, Mr. Owen Harris</td>\n",
       "      <td>male</td>\n",
       "      <td>22.0</td>\n",
       "      <td>1</td>\n",
       "      <td>0</td>\n",
       "      <td>A/5 21171</td>\n",
       "      <td>7.2500</td>\n",
       "      <td>NaN</td>\n",
       "      <td>S</td>\n",
       "    </tr>\n",
       "    <tr>\n",
       "      <th>2</th>\n",
       "      <td>1</td>\n",
       "      <td>1</td>\n",
       "      <td>Cumings, Mrs. John Bradley (Florence Briggs Th...</td>\n",
       "      <td>female</td>\n",
       "      <td>38.0</td>\n",
       "      <td>1</td>\n",
       "      <td>0</td>\n",
       "      <td>PC 17599</td>\n",
       "      <td>71.2833</td>\n",
       "      <td>C85</td>\n",
       "      <td>C</td>\n",
       "    </tr>\n",
       "    <tr>\n",
       "      <th>3</th>\n",
       "      <td>1</td>\n",
       "      <td>3</td>\n",
       "      <td>Heikkinen, Miss. Laina</td>\n",
       "      <td>female</td>\n",
       "      <td>26.0</td>\n",
       "      <td>0</td>\n",
       "      <td>0</td>\n",
       "      <td>STON/O2. 3101282</td>\n",
       "      <td>7.9250</td>\n",
       "      <td>NaN</td>\n",
       "      <td>S</td>\n",
       "    </tr>\n",
       "    <tr>\n",
       "      <th>4</th>\n",
       "      <td>1</td>\n",
       "      <td>1</td>\n",
       "      <td>Futrelle, Mrs. Jacques Heath (Lily May Peel)</td>\n",
       "      <td>female</td>\n",
       "      <td>35.0</td>\n",
       "      <td>1</td>\n",
       "      <td>0</td>\n",
       "      <td>113803</td>\n",
       "      <td>53.1000</td>\n",
       "      <td>C123</td>\n",
       "      <td>S</td>\n",
       "    </tr>\n",
       "    <tr>\n",
       "      <th>5</th>\n",
       "      <td>0</td>\n",
       "      <td>3</td>\n",
       "      <td>Allen, Mr. William Henry</td>\n",
       "      <td>male</td>\n",
       "      <td>35.0</td>\n",
       "      <td>0</td>\n",
       "      <td>0</td>\n",
       "      <td>373450</td>\n",
       "      <td>8.0500</td>\n",
       "      <td>NaN</td>\n",
       "      <td>S</td>\n",
       "    </tr>\n",
       "  </tbody>\n",
       "</table>\n",
       "</div>"
      ],
      "text/plain": [
       "             Survived  Pclass  \\\n",
       "PassengerId                     \n",
       "1                   0       3   \n",
       "2                   1       1   \n",
       "3                   1       3   \n",
       "4                   1       1   \n",
       "5                   0       3   \n",
       "\n",
       "                                                          Name     Sex   Age  \\\n",
       "PassengerId                                                                    \n",
       "1                                      Braund, Mr. Owen Harris    male  22.0   \n",
       "2            Cumings, Mrs. John Bradley (Florence Briggs Th...  female  38.0   \n",
       "3                                       Heikkinen, Miss. Laina  female  26.0   \n",
       "4                 Futrelle, Mrs. Jacques Heath (Lily May Peel)  female  35.0   \n",
       "5                                     Allen, Mr. William Henry    male  35.0   \n",
       "\n",
       "             SibSp  Parch            Ticket     Fare Cabin Embarked  \n",
       "PassengerId                                                          \n",
       "1                1      0         A/5 21171   7.2500   NaN        S  \n",
       "2                1      0          PC 17599  71.2833   C85        C  \n",
       "3                0      0  STON/O2. 3101282   7.9250   NaN        S  \n",
       "4                1      0            113803  53.1000  C123        S  \n",
       "5                0      0            373450   8.0500   NaN        S  "
      ]
     },
     "execution_count": 2,
     "metadata": {},
     "output_type": "execute_result"
    }
   ],
   "source": [
    "# set data source\n",
    "data_url = 'data/train.csv'\n",
    "\n",
    "# set index column\n",
    "index_col = 'PassengerId'\n",
    "\n",
    "# load data\n",
    "data = pd.read_csv(data_url, index_col=index_col)\n",
    "data.head(5)"
   ]
  },
  {
   "cell_type": "markdown",
   "id": "269d65ba",
   "metadata": {
    "heading_collapsed": true,
    "hidden": true
   },
   "source": [
    "## Feature-Target split"
   ]
  },
  {
   "cell_type": "code",
   "execution_count": 3,
   "id": "0ec46b23",
   "metadata": {
    "ExecuteTime": {
     "end_time": "2023-05-25T15:46:05.808754Z",
     "start_time": "2023-05-25T15:46:05.802946Z"
    },
    "hidden": true
   },
   "outputs": [
    {
     "name": "stdout",
     "output_type": "stream",
     "text": [
      "shape of X is \u001b[94m(891, 10)\u001b[0m, shape of y is \u001b[94m(891,)\u001b[0m\n"
     ]
    }
   ],
   "source": [
    "# define the target column in the train dataset\n",
    "target = 'Survived'\n",
    "\n",
    "# split columns into X and y\n",
    "X = data.drop(columns = target).copy()\n",
    "y = data[target]\n",
    "\n",
    "# check the shape of the data\n",
    "print(f'shape of X is \\033[94m{X.shape}\\033[0m, shape of y is \\033[94m{y.shape}\\033[0m')"
   ]
  },
  {
   "cell_type": "markdown",
   "id": "16fb3079",
   "metadata": {
    "ExecuteTime": {
     "end_time": "2023-05-24T06:07:23.217559Z",
     "start_time": "2023-05-24T06:07:23.214704Z"
    },
    "heading_collapsed": true,
    "hidden": true
   },
   "source": [
    "## Missing Values"
   ]
  },
  {
   "cell_type": "code",
   "execution_count": 13,
   "id": "cad36ef3",
   "metadata": {
    "ExecuteTime": {
     "end_time": "2023-05-25T15:52:11.159291Z",
     "start_time": "2023-05-25T15:52:11.017489Z"
    },
    "hidden": true,
    "scrolled": true
   },
   "outputs": [
    {
     "name": "stdout",
     "output_type": "stream",
     "text": [
      "feature with missing values (\u001b[95m3\u001b[0m): \u001b[94m['Age', 'Cabin', 'Embarked']\u001b[0m\n"
     ]
    },
    {
     "data": {
      "image/png": "[encoded data removed]",
      "text/plain": [
       "<Figure size 1200x400 with 1 Axes>"
      ]
     },
     "metadata": {},
     "output_type": "display_data"
    }
   ],
   "source": [
    "#filter all the features with missing values\n",
    "feature_null= X.isnull().mean().sort_values(ascending = False)\n",
    "feature_null=feature_null[feature_null>0]\n",
    "\n",
    "feature_with_missing_values = feature_null.index.sort_values().to_list()\n",
    "print(f'feature with missing values (\\033[95m{len(feature_with_missing_values)}\\\n",
    "\\033[0m): \\033[94m{feature_with_missing_values}\\033[0m')\n",
    "# visualize\n",
    "plt.figure(figsize=(12, 4))\n",
    "feature_ranks = range(len(feature_null))\n",
    "bar = plt.barh(feature_null.index, feature_null.values, label=[str(x) for x in feature_ranks])\n",
    "plt.gca().invert_yaxis()\n",
    "plt.xlabel('%')\n",
    "plt.title(\"Percentage (%) of missing values\")\n",
    "plt.tight_layout()\n",
    "plt.grid(axis='x')\n",
    "plt.show()"
   ]
  },
  {
   "cell_type": "markdown",
   "id": "90bc8404",
   "metadata": {
    "ExecuteTime": {
     "end_time": "2023-05-24T06:02:58.238855Z",
     "start_time": "2023-05-24T06:02:58.236116Z"
    },
    "heading_collapsed": true,
    "hidden": true
   },
   "source": [
    "## Feature Screening"
   ]
  },
  {
   "cell_type": "code",
   "execution_count": 17,
   "id": "2d330426",
   "metadata": {
    "ExecuteTime": {
     "end_time": "2023-05-25T15:57:27.205293Z",
     "start_time": "2023-05-25T15:57:27.195968Z"
    },
    "hidden": true
   },
   "outputs": [
    {
     "name": "stdout",
     "output_type": "stream",
     "text": [
      "All features (\u001b[95m10\u001b[0m): \u001b[94m['Age', 'Cabin', 'Embarked', 'Fare', 'Name', 'Parch', 'Pclass', 'Sex', 'SibSp', 'Ticket']\u001b[0m\n",
      "Features to drop (\u001b[91m3\u001b[0m): \u001b[94m['Name', 'Ticket', 'Cabin']\u001b[0m\n",
      "Categorical cat features (\u001b[95m2\u001b[0m): \u001b[94m['Sex', 'Embarked']\u001b[0m\n",
      "Ordinal cat features (\u001e",
      "[95m0\u001b[0m): \u001b[94m[]\u001b[0m\n",
      "None-ordinal cat features (\u001b[95m2\u001b[0m): \u001b[94m['Sex', 'Embarked']\u001b[0m\n",
      "Numercial features (\u001b[95m5\u001b[0m): \u001b[94m['Pclass', 'Age', 'SibSp', 'Parch', 'Fare']\u001b[0m\n"
     ]
    }
   ],
   "source": [
    "X = data.drop(columns = target).copy()\n",
    "features_all = X.columns.sort_values().to_list()\n",
    "\n",
    "columns_to_drop = ['Name', 'Ticket', 'Cabin']\n",
    "# columns_to_drop = []\n",
    "\n",
    "X = X.drop(columns=columns_to_drop)\n",
    "\n",
    "feature_numerical = X.select_dtypes(exclude='object').columns.to_list()\n",
    "\n",
    "feature_categorical = X.select_dtypes(include='object').columns.to_list()\n",
    "\n",
    "feature_categorical_Ordinal = []\n",
    "\n",
    "feature_categorical_OneHot = [key for key in feature_categorical \n",
    "                              if key not in feature_categorical_Ordinal]\n",
    "\n",
    "print(f'All features (\\033[95m{len(features_all)}\\\n",
    "\\033[0m): \\033[94m{features_all}\\033[0m')\n",
    "\n",
    "print(f'Features to drop (\\033[91m{len(columns_to_drop)}\\\n",
    "\\033[0m): \\033[94m{columns_to_drop}\\033[0m')\n",
    "\n",
    "print(f'Categorical cat features (\\033[95m{len(feature_categorical)}\\\n",
    "\\033[0m): \\033[94m{feature_categorical}\\033[0m')\n",
    "\n",
    "print(f'Ordinal cat features (\\036[95m{len(feature_categorical_Ordinal)}\\\n",
    "\\033[0m): \\033[94m{feature_categorical_Ordinal}\\033[0m')\n",
    "\n",
    "print(f'None-ordinal cat features (\\033[95m{len(feature_categorical_OneHot)}\\\n",
    "\\033[0m): \\033[94m{feature_categorical_OneHot}\\033[0m')\n",
    "\n",
    "print(f'Numercial features (\\033[95m{len(feature_numerical)}\\\n",
    "\\033[0m): \\033[94m{feature_numerical}\\033[0m')"
   ]
  },
  {
   "cell_type": "markdown",
   "id": "92d3009a",
   "metadata": {
    "heading_collapsed": true
   },
   "source": [
    "# Data Exploration"
   ]
  },
  {
   "cell_type": "markdown",
   "id": "5c56c619",
   "metadata": {
    "heading_collapsed": true,
    "hidden": true
   },
   "source": [
    "## Numerical Features"
   ]
  },
  {
   "cell_type": "markdown",
   "id": "4dec0958",
   "metadata": {
    "ExecuteTime": {
     "end_time": "2023-05-25T16:08:53.225441Z",
     "start_time": "2023-05-25T16:08:53.222478Z"
    },
    "heading_collapsed": true,
    "hidden": true
   },
   "source": [
    "### Overview"
   ]
  },
  {
   "cell_type": "code",
   "execution_count": 57,
   "id": "8d3a1798",
   "metadata": {
    "ExecuteTime": {
     "end_time": "2023-05-25T16:19:30.580294Z",
     "start_time": "2023-05-25T16:19:29.522293Z"
    },
    "hidden": true,
    "scrolled": true
   },
   "outputs": [
    {
     "name": "stdout",
     "output_type": "stream",
     "text": [
      "Numercial features (\u001b[95m5\u001b[0m): \u001b[94m['Pclass', 'Age', 'SibSp', 'Parch', 'Fare']\u001b[0m\n"
     ]
    },
    {
     "data": {
      "image/png": "[encoded data removed]",
      "text/plain": [
       "<Figure size 1600x2000 with 6 Axes>"
      ]
     },
     "metadata": {},
     "output_type": "display_data"
    }
   ],
   "source": [
    "print(f'Numercial features (\\033[95m{len(feature_numerical)}\\\n",
    "\\033[0m): \\033[94m{feature_numerical}\\033[0m')\n",
    "\n",
    "X[feature_numerical].hist(\n",
    "    figsize=(16, 20), \n",
    "    bins=50, \n",
    "    xlabelsize=8, \n",
    "    ylabelsize=8);"
   ]
  },
  {
   "cell_type": "markdown",
   "id": "407f603b",
   "metadata": {
    "ExecuteTime": {
     "end_time": "2023-05-25T16:00:17.672824Z",
     "start_time": "2023-05-25T16:00:17.669972Z"
    },
    "heading_collapsed": true,
    "hidden": true
   },
   "source": [
    "### Corrilations"
   ]
  },
  {
   "cell_type": "code",
   "execution_count": 20,
   "id": "3dd753cd",
   "metadata": {
    "ExecuteTime": {
     "end_time": "2023-05-25T15:59:07.293698Z",
     "start_time": "2023-05-25T15:59:07.106806Z"
    },
    "hidden": true
   },
   "outputs": [
    {
     "data": {
      "image/png": "[encoded data removed]",
      "text/plain": [
       "<Figure size 640x480 with 2 Axes>"
      ]
     },
     "metadata": {},
     "output_type": "display_data"
    }
   ],
   "source": [
    "X_num = X[feature_numerical].dropna()\n",
    "\n",
    "sns.heatmap(X_num.corr(), cmap='PuRd')\n",
    "pca = PCA()\n",
    "X_scaled = StandardScaler().fit_transform(X_num)\n",
    "X_pca = pca.fit_transform(X_scaled)"
   ]
  },
  {
   "cell_type": "markdown",
   "id": "2c022e90",
   "metadata": {
    "heading_collapsed": true,
    "hidden": true
   },
   "source": [
    "### Principal components Analysis"
   ]
  },
  {
   "cell_type": "code",
   "execution_count": 27,
   "id": "a07bfcf3",
   "metadata": {
    "ExecuteTime": {
     "end_time": "2023-05-25T16:01:40.895964Z",
     "start_time": "2023-05-25T16:01:40.720052Z"
    },
    "hidden": true
   },
   "outputs": [
    {
     "data": {
      "image/png": "[encoded data removed]",
      "text/plain": [
       "<Figure size 1000x600 with 1 Axes>"
      ]
     },
     "metadata": {},
     "output_type": "display_data"
    }
   ],
   "source": [
    "with plt.style.context('seaborn-deep'):\n",
    "    \n",
    "    # figsize\n",
    "    plt.figure(figsize=(10,6))\n",
    "    \n",
    "    # getting axes\n",
    "    ax = plt.gca()\n",
    "    \n",
    "    # plotting\n",
    "    evr_cumulated = np.cumsum(pca.explained_variance_ratio_)\n",
    "    x_axis_ticks = np.arange(1,evr_cumulated.shape[0]+1)\n",
    "    ax.plot(x_axis_ticks,evr_cumulated,label=\"cumulated variance ratio\",\n",
    "            color=\"purple\",linestyle=\":\",marker=\"D\",markersize=10)\n",
    "    \n",
    "    \n",
    "    # customizing\n",
    "    ax.set_xlabel('Number of Principal Components')\n",
    "    ax.set_ylabel('% cumulated explained variance')\n",
    "    ax.legend(loc=\"upper left\")\n",
    "    ax.set_title('The Elbow Method')\n",
    "    ax.set_xticks(x_axis_ticks)\n",
    "    ax.grid(axis=\"x\",linewidth=0.5)\n",
    "    ax.grid(axis=\"y\",linewidth=0.5)"
   ]
  },
  {
   "cell_type": "markdown",
   "id": "46e4e86a",
   "metadata": {
    "heading_collapsed": true,
    "hidden": true
   },
   "source": [
    "## Catigorical Features"
   ]
  },
  {
   "cell_type": "markdown",
   "id": "527b561c",
   "metadata": {
    "ExecuteTime": {
     "end_time": "2023-05-25T16:18:49.528798Z",
     "start_time": "2023-05-25T16:18:49.525715Z"
    },
    "heading_collapsed": true,
    "hidden": true
   },
   "source": [
    "### Overview"
   ]
  },
  {
   "cell_type": "code",
   "execution_count": 50,
   "id": "df036e03",
   "metadata": {
    "ExecuteTime": {
     "end_time": "2023-05-25T16:12:21.276762Z",
     "start_time": "2023-05-25T16:12:21.081516Z"
    },
    "hidden": true,
    "scrolled": true
   },
   "outputs": [
    {
     "name": "stdout",
     "output_type": "stream",
     "text": [
      "Categorical cat features (\u001b[95m2\u001b[0m): \u001b[94m['Sex', 'Embarked']\u001b[0m\n"
     ]
    },
    {
     "data": {
      "image/png": "[encoded data removed]",
      "text/plain": [
       "<Figure size 800x400 with 2 Axes>"
      ]
     },
     "metadata": {},
     "output_type": "display_data"
    }
   ],
   "source": [
    "plot_list=feature_categorical\n",
    "\n",
    "print(f'Categorical cat features (\\033[95m{len(plot_list)}\\\n",
    "\\033[0m): \\033[94m{plot_list}\\033[0m')\n",
    "\n",
    "num_cols = 2  # Number of columns in the grid\n",
    "\n",
    "num_rows = (len(plot_list) - 1) // num_cols + 1  # Number of rows in the grid\n",
    "\n",
    "fig, axes = plt.subplots(num_rows, num_cols, figsize=(4*num_cols, 4*num_rows))\n",
    "\n",
    "# Plot each categorical feature\n",
    "for i, feature in enumerate(plot_list):\n",
    "    ax = axes[i // num_cols, i % num_cols] if num_rows > 1 else axes[i % num_cols]\n",
    "    sns.histplot(data=X, x=feature, kde=False, ax=ax)\n",
    "\n",
    "# Hide unused subplots\n",
    "if len(plot_list) < num_rows * num_cols:\n",
    "    for j in range(len(plot_list), num_rows * num_cols):\n",
    "        axes[j // num_cols, j % num_cols].axis('off')\n",
    "\n",
    "plt.tight_layout()\n",
    "plt.show()"
   ]
  },
  {
   "cell_type": "markdown",
   "id": "30691352",
   "metadata": {
    "ExecuteTime": {
     "end_time": "2023-05-25T16:07:37.467818Z",
     "start_time": "2023-05-25T16:07:37.463389Z"
    },
    "heading_collapsed": true,
    "hidden": true
   },
   "source": [
    "### Catigorical Ordinal Features"
   ]
  },
  {
   "cell_type": "code",
   "execution_count": 55,
   "id": "c5520823",
   "metadata": {
    "ExecuteTime": {
     "end_time": "2023-05-25T16:16:16.538393Z",
     "start_time": "2023-05-25T16:16:16.532939Z"
    },
    "hidden": true
   },
   "outputs": [
    {
     "name": "stdout",
     "output_type": "stream",
     "text": [
      "Categorical cat features (\u001b[94m0\u001b[0m): \u001b[94m[]\u001b[0m\n"
     ]
    }
   ],
   "source": [
    "plot_list = feature_categorical_Ordinal\n",
    "\n",
    "print(f'Categorical cat features (\\033[94m{len(plot_list)}\\\n",
    "\\033[0m): \\033[94m{plot_list}\\033[0m')\n",
    "\n",
    "if len(plot_list)>0:\n",
    "    # Assuming 'X' is your DataFrame\n",
    "    num_cols = 4  # Number of columns in the grid\n",
    "    num_rows = (len(plot_list) - 1) // num_cols + 1  # Number of rows in the grid\n",
    "\n",
    "    fig, axes = plt.subplots(num_rows, num_cols, figsize=(4*num_cols, 4*num_rows))\n",
    "\n",
    "    # Plot each categorical feature\n",
    "    for i, feature in enumerate(plot_list):\n",
    "        ax = axes[i // num_cols, i % num_cols] if num_rows > 1 else axes[i % num_cols]\n",
    "        sns.histplot(data=X, x=feature, kde=False, ax=ax)\n",
    "\n",
    "    # Hide unused subplots\n",
    "    if len(plot_list) < num_rows * num_cols:\n",
    "        for j in range(len(plot_list), num_rows * num_cols):\n",
    "            axes[j // num_cols, j % num_cols].axis('off')\n",
    "\n",
    "    plt.tight_layout()\n",
    "    plt.show()"
   ]
  },
  {
   "cell_type": "code",
   "execution_count": 52,
   "id": "c7143d5f",
   "metadata": {
    "ExecuteTime": {
     "end_time": "2023-05-25T16:12:59.802029Z",
     "start_time": "2023-05-25T16:12:59.466148Z"
    },
    "hidden": true
   },
   "outputs": [
    {
     "name": "stdout",
     "output_type": "stream",
     "text": [
      "Categorical cat features (\u001b[94m2\u001b[0m): \u001b[94m['Sex', 'Embarked']\u001b[0m\n"
     ]
    },
    {
     "ename": "IndexError",
     "evalue": "too many indices for array: array is 1-dimensional, but 2 were indexed",
     "output_type": "error",
     "traceback": [
      "\u001b[0;31m---------------------------------------------------------------------------\u001b[0m",
      "\u001b[0;31mIndexError\u001b[0m                                Traceback (most recent call last)",
      "Cell \u001b[0;32mIn [52], line 21\u001b[0m\n\u001b[1;32m     19\u001b[0m \u001b[38;5;28;01mif\u001b[39;00m \u001b[38;5;28mlen\u001b[39m(plot_list) \u001b[38;5;241m<\u001b[39m num_rows \u001b[38;5;241m*\u001b[39m num_cols:\n\u001b[1;32m     20\u001b[0m     \u001b[38;5;28;01mfor\u001b[39;00m j \u001b[38;5;129;01min\u001b[39;00m \u001b[38;5;28mrange\u001b[39m(\u001b[38;5;28mlen\u001b[39m(plot_list), num_rows \u001b[38;5;241m*\u001b[39m num_cols):\n\u001b[0;32m---> 21\u001b[0m         \u001b[43maxes\u001b[49m\u001b[43m[\u001b[49m\u001b[43mj\u001b[49m\u001b[43m \u001b[49m\u001b[38;5;241;43m/\u001b[39;49m\u001b[38;5;241;43m/\u001b[39;49m\u001b[43m \u001b[49m\u001b[43mnum_cols\u001b[49m\u001b[43m,\u001b[49m\u001b[43m \u001b[49m\u001b[43mj\u001b[49m\u001b[43m \u001b[49m\u001b[38;5;241;43m%\u001b[39;49m\u001b[43m \u001b[49m\u001b[43mnum_cols\u001b[49m\u001b[43m]\u001b[49m\u001b[38;5;241m.\u001b[39maxis(\u001b[38;5;124m'\u001b[39m\u001b[38;5;124moff\u001b[39m\u001b[38;5;124m'\u001b[39m)\n\u001b[1;32m     23\u001b[0m plt\u001b[38;5;241m.\u001b[39mtight_layout()\n\u001b[1;32m     24\u001b[0m plt\u001b[38;5;241m.\u001b[39mshow()\n",
      "\u001b[0;31mIndexError\u001b[0m: too many indices for array: array is 1-dimensional, but 2 were indexed"
     ]
    },
    {
     "data": {
      "image/png": "[encoded data removed]",
      "text/plain": [
       "<Figure size 1200x200 with 4 Axes>"
      ]
     },
     "metadata": {},
     "output_type": "display_data"
    }
   ],
   "source": [
    "plot_list=feature_categorical_OneHot\n",
    "\n",
    "print(f'Categorical cat features (\\033[94m{len(plot_list)}\\\n",
    "\\033[0m): \\033[94m{plot_list}\\033[0m')\n",
    "\n",
    "if len(plot_list)>0:\n",
    "    # Assuming 'X' is your DataFrame\n",
    "    num_cols = 4  # Number of columns in the grid\n",
    "    num_rows = (len(plot_list) - 1) // num_cols + 1  # Number of rows in the grid\n",
    "\n",
    "    fig, axes = plt.subplots(num_rows, num_cols, figsize=(3*num_cols, 2*num_rows))\n",
    "\n",
    "    # Plot each categorical feature\n",
    "    for i, feature in enumerate(plot_list):\n",
    "        ax = axes[i // num_cols, i % num_cols] if num_rows > 1 else axes[i % num_cols]\n",
    "        sns.histplot(data=X, x=feature, kde=False, ax=ax)\n",
    "\n",
    "    # Hide unused subplots\n",
    "    if len(plot_list) < num_rows * num_cols:\n",
    "        for j in range(len(plot_list), num_rows * num_cols):\n",
    "            axes[j // num_cols, j % num_cols].axis('off')\n",
    "\n",
    "    plt.tight_layout()\n",
    "    plt.show()"
   ]
  },
  {
   "cell_type": "markdown",
   "id": "5882ff75",
   "metadata": {
    "heading_collapsed": true,
    "hidden": true
   },
   "source": [
    "### Catigorical Ordinal Features Mapping"
   ]
  },
  {
   "cell_type": "code",
   "execution_count": null,
   "id": "b4947c8f",
   "metadata": {
    "hidden": true
   },
   "outputs": [],
   "source": [
    "feat_ordinal_dict = {\n",
    "    # considers \"missing\" as the worse category\n",
    "    \"BsmtCond\": ['missing', 'Po', 'Fa', 'TA', 'Gd'],\n",
    "#     \"BsmtExposure\": ['missing', 'No', 'Mn', 'Av', 'Gd'],\n",
    "#     \"BsmtFinType1\": ['missing', 'Unf', 'LwQ', 'Rec', 'BLQ', 'ALQ', 'GLQ'],\n",
    "#     \"BsmtFinType2\": ['missing', 'Unf', 'LwQ', 'Rec', 'BLQ', 'ALQ', 'GLQ'],\n",
    "    \"BsmtQual\": ['missing', 'Fa', 'TA', 'Gd', 'Ex'],\n",
    "#     \"Electrical\": ['missing', 'Mix', 'FuseP', 'FuseF', 'FuseA', 'SBrkr'],\n",
    "    \"ExterCond\": ['missing', 'Po', 'Fa', 'TA', 'Gd', 'Ex'],\n",
    "    \"ExterQual\": ['missing', 'Fa', 'TA', 'Gd', 'Ex'],\n",
    "#     \"Fence\": ['missing', 'MnWw', 'GdWo', 'MnPrv', 'GdPrv'],\n",
    "    \"FireplaceQu\": ['missing', 'Po', 'Fa', 'TA', 'Gd', 'Ex'],\n",
    "#     \"Functional\": ['missing', 'Sev', 'Maj2', 'Maj1', 'Mod', 'Min2', 'Min1', 'Typ'],\n",
    "#     \"GarageCond\": ['missing', 'Po', 'Fa', 'TA', 'Gd', 'Ex'],\n",
    "#     \"GarageFinish\": ['missing', 'Unf', 'RFn', 'Fin'],\n",
    "#     \"GarageQual\": ['missing', 'Po', 'Fa', 'TA', 'Gd', 'Ex'],\n",
    "    \"HeatingQC\": ['missing', 'Po', 'Fa', 'TA', 'Gd', 'Ex'],\n",
    "    \"KitchenQual\": ['missing', 'Fa', 'TA', 'Gd', 'Ex']\n",
    "#     \"LandContour\": ['missing', 'Low', 'Bnk', 'HLS', 'Lvl'],\n",
    "#     \"LandSlope\": ['missing', 'Sev', 'Mod', 'Gtl'],\n",
    "#     \"LotShape\": ['missing', 'IR3', 'IR2', 'IR1', 'Reg'],\n",
    "#     \"PavedDrive\": ['missing', 'N', 'P', 'Y'],\n",
    "#     \"PoolQC\": ['missing', 'Fa', 'Gd', 'Ex'],\n",
    "}\n",
    "\n",
    "\n",
    "ordinal_features = list(feat_ordinal_dict.keys())\n",
    "ordinal_values = list(feat_ordinal_dict.values())"
   ]
  },
  {
   "cell_type": "markdown",
   "id": "4753d156",
   "metadata": {
    "heading_collapsed": true,
    "hidden": true
   },
   "source": [
    "### Catigorical OneHot Features"
   ]
  },
  {
   "cell_type": "code",
   "execution_count": 53,
   "id": "5db141a1",
   "metadata": {
    "ExecuteTime": {
     "end_time": "2023-05-25T16:14:20.746907Z",
     "start_time": "2023-05-25T16:14:20.647457Z"
    },
    "hidden": true
   },
   "outputs": [
    {
     "name": "stderr",
     "output_type": "stream",
     "text": [
      "/var/folders/cn/4l415qx57kq58d7hp_yy5wk80000gn/T/ipykernel_46302/3587405270.py:12: UserWarning: Tight layout not applied. The bottom and top margins cannot be made large enough to accommodate all axes decorations.\n",
      "  plt.tight_layout()\n"
     ]
    },
    {
     "data": {
      "image/png": "[encoded data removed]",
      "text/plain": [
       "<Figure size 800x50 with 1 Axes>"
      ]
     },
     "metadata": {},
     "output_type": "display_data"
    }
   ],
   "source": [
    "# list the number of categories of each OneHot feature\n",
    "feature_cat_value_count= X[feature_categorical_OneHot].nunique().sort_values(ascending=False)\n",
    "feature_cat_value_count=feature_cat_value_count[feature_cat_value_count>0]\n",
    "\n",
    "# visualize\n",
    "plt.figure(figsize=(8, feature_cat_value_count.shape[0]/4))\n",
    "feature_ranks = range(len(feature_null))\n",
    "bar = plt.barh(feature_cat_value_count.index, feature_cat_value_count.values, label=[str(x) for x in feature_ranks])\n",
    "plt.gca().invert_yaxis()\n",
    "plt.xlabel('%')\n",
    "plt.title(\"Number of unique categories\")\n",
    "plt.tight_layout()\n",
    "plt.grid(axis='x')\n",
    "plt.show()"
   ]
  },
  {
   "cell_type": "code",
   "execution_count": null,
   "id": "805ea972",
   "metadata": {
    "hidden": true
   },
   "outputs": [],
   "source": []
  },
  {
   "cell_type": "markdown",
   "id": "bfffd311",
   "metadata": {
    "heading_collapsed": true
   },
   "source": [
    "# Data Preprocessing"
   ]
  },
  {
   "cell_type": "code",
   "execution_count": 59,
   "id": "0e2d6bf9",
   "metadata": {
    "ExecuteTime": {
     "end_time": "2023-05-25T16:21:38.193359Z",
     "start_time": "2023-05-25T16:21:38.155282Z"
    },
    "hidden": true
   },
   "outputs": [
    {
     "data": {
      "text/html": [
       "<style>#sk-container-id-1 {color: black;background-color: white;}#sk-container-id-1 pre{padding: 0;}#sk-container-id-1 div.sk-toggleable {background-color: white;}#sk-container-id-1 label.sk-toggleable__label {cursor: pointer;display: block;width: 100%;margin-bottom: 0;padding: 0.3em;box-sizing: border-box;text-align: center;}#sk-container-id-1 label.sk-toggleable__label-arrow:before {content: \"▸\";float: left;margin-right: 0.25em;color: #696969;}#sk-container-id-1 label.sk-toggleable__label-arrow:hover:before {color: black;}#sk-container-id-1 div.sk-estimator:hover label.sk-toggleable__label-arrow:before {color: black;}#sk-container-id-1 div.sk-toggleable__content {max-height: 0;max-width: 0;overflow: hidden;text-align: left;background-color: #f0f8ff;}#sk-container-id-1 div.sk-toggleable__content pre {margin: 0.2em;color: black;border-radius: 0.25em;background-color: #f0f8ff;}#sk-container-id-1 input.sk-toggleable__control:checked~div.sk-toggleable__content {max-height: 200px;max-width: 100%;overflow: auto;}#sk-container-id-1 input.sk-toggleable__control:checked~label.sk-toggleable__label-arrow:before {content: \"▾\";}#sk-container-id-1 div.sk-estimator input.sk-toggleable__control:checked~label.sk-toggleable__label {background-color: #d4ebff;}#sk-container-id-1 div.sk-label input.sk-toggleable__control:checked~label.sk-toggleable__label {background-color: #d4ebff;}#sk-container-id-1 input.sk-hidden--visually {border: 0;clip: rect(1px 1px 1px 1px);clip: rect(1px, 1px, 1px, 1px);height: 1px;margin: -1px;overflow: hidden;padding: 0;position: absolute;width: 1px;}#sk-container-id-1 div.sk-estimator {font-family: monospace;background-color: #f0f8ff;border: 1px dotted black;border-radius: 0.25em;box-sizing: border-box;margin-bottom: 0.5em;}#sk-container-id-1 div.sk-estimator:hover {background-color: #d4ebff;}#sk-container-id-1 div.sk-parallel-item::after {content: \"\";width: 100%;border-bottom: 1px solid gray;flex-grow: 1;}#sk-container-id-1 div.sk-label:hover label.sk-toggleable__label {background-color: #d4ebff;}#sk-container-id-1 div.sk-serial::before {content: \"\";position: absolute;border-left: 1px solid gray;box-sizing: border-box;top: 0;bottom: 0;left: 50%;z-index: 0;}#sk-container-id-1 div.sk-serial {display: flex;flex-direction: column;align-items: center;background-color: white;padding-right: 0.2em;padding-left: 0.2em;position: relative;}#sk-container-id-1 div.sk-item {position: relative;z-index: 1;}#sk-container-id-1 div.sk-parallel {display: flex;align-items: stretch;justify-content: center;background-color: white;position: relative;}#sk-container-id-1 div.sk-item::before, #sk-container-id-1 div.sk-parallel-item::before {content: \"\";position: absolute;border-left: 1px solid gray;box-sizing: border-box;top: 0;bottom: 0;left: 50%;z-index: -1;}#sk-container-id-1 div.sk-parallel-item {display: flex;flex-direction: column;z-index: 1;position: relative;background-color: white;}#sk-container-id-1 div.sk-parallel-item:first-child::after {align-self: flex-end;width: 50%;}#sk-container-id-1 div.sk-parallel-item:last-child::after {align-self: flex-start;width: 50%;}#sk-container-id-1 div.sk-parallel-item:only-child::after {width: 0;}#sk-container-id-1 div.sk-dashed-wrapped {border: 1px dashed gray;margin: 0 0.4em 0.5em 0.4em;box-sizing: border-box;padding-bottom: 0.4em;background-color: white;}#sk-container-id-1 div.sk-label label {font-family: monospace;font-weight: bold;display: inline-block;line-height: 1.2em;}#sk-container-id-1 div.sk-label-container {text-align: center;}#sk-container-id-1 div.sk-container {/* jupyter's `normalize.less` sets `[hidden] { display: none; }` but bootstrap.min.css set `[hidden] { display: none !important; }` so we also need the `!important` here to be able to override the default hidden behavior on the sphinx rendered scikit-learn.org. See: https://github.com/scikit-learn/scikit-learn/issues/21755 */display: inline-block !important;position: relative;}#sk-container-id-1 div.sk-text-repr-fallback {display: none;}</style><div id=\"sk-container-id-1\" class=\"sk-top-container\"><div class=\"sk-text-repr-fallback\"><pre>ColumnTransformer(remainder=&#x27;passthrough&#x27;,\n",
       "                  transformers=[(&#x27;pipeline-1&#x27;,\n",
       "                                 Pipeline(steps=[(&#x27;simpleimputer&#x27;,\n",
       "                                                  SimpleImputer()),\n",
       "                                                 (&#x27;minmaxscaler&#x27;,\n",
       "                                                  MinMaxScaler())]),\n",
       "                                 [&#x27;Pclass&#x27;, &#x27;Age&#x27;, &#x27;SibSp&#x27;, &#x27;Parch&#x27;, &#x27;Fare&#x27;]),\n",
       "                                (&#x27;pipeline-2&#x27;,\n",
       "                                 Pipeline(steps=[(&#x27;simpleimputer&#x27;,\n",
       "                                                  SimpleImputer(strategy=&#x27;most_frequent&#x27;))]),\n",
       "                                 []),\n",
       "                                (&#x27;pipeline-3&#x27;,\n",
       "                                 Pipeline(steps=[(&#x27;simpleimputer&#x27;,\n",
       "                                                  SimpleImputer(strategy=&#x27;most_frequent&#x27;)),\n",
       "                                                 (&#x27;onehotencoder&#x27;,\n",
       "                                                  OneHotEncoder(drop=&#x27;if_binary&#x27;,\n",
       "                                                                handle_unknown=&#x27;ignore&#x27;,\n",
       "                                                                sparse_output=False))]),\n",
       "                                 [&#x27;Sex&#x27;, &#x27;Embarked&#x27;])])</pre><b>In a Jupyter environment, please rerun this cell to show the HTML representation or trust the notebook. <br />On GitHub, the HTML representation is unable to render, please try loading this page with nbviewer.org.</b></div><div class=\"sk-container\" hidden><div class=\"sk-item sk-dashed-wrapped\"><div class=\"sk-label-container\"><div class=\"sk-label sk-toggleable\"><input class=\"sk-toggleable__control sk-hidden--visually\" id=\"sk-estimator-id-1\" type=\"checkbox\" ><label for=\"sk-estimator-id-1\" class=\"sk-toggleable__label sk-toggleable__label-arrow\">ColumnTransformer</label><div class=\"sk-toggleable__content\"><pre>ColumnTransformer(remainder=&#x27;passthrough&#x27;,\n",
       "                  transformers=[(&#x27;pipeline-1&#x27;,\n",
       "                                 Pipeline(steps=[(&#x27;simpleimputer&#x27;,\n",
       "                                                  SimpleImputer()),\n",
       "                                                 (&#x27;minmaxscaler&#x27;,\n",
       "                                                  MinMaxScaler())]),\n",
       "                                 [&#x27;Pclass&#x27;, &#x27;Age&#x27;, &#x27;SibSp&#x27;, &#x27;Parch&#x27;, &#x27;Fare&#x27;]),\n",
       "                                (&#x27;pipeline-2&#x27;,\n",
       "                                 Pipeline(steps=[(&#x27;simpleimputer&#x27;,\n",
       "                                                  SimpleImputer(strategy=&#x27;most_frequent&#x27;))]),\n",
       "                                 []),\n",
       "                                (&#x27;pipeline-3&#x27;,\n",
       "                                 Pipeline(steps=[(&#x27;simpleimputer&#x27;,\n",
       "                                                  SimpleImputer(strategy=&#x27;most_frequent&#x27;)),\n",
       "                                                 (&#x27;onehotencoder&#x27;,\n",
       "                                                  OneHotEncoder(drop=&#x27;if_binary&#x27;,\n",
       "                                                                handle_unknown=&#x27;ignore&#x27;,\n",
       "                                                                sparse_output=False))]),\n",
       "                                 [&#x27;Sex&#x27;, &#x27;Embarked&#x27;])])</pre></div></div></div><div class=\"sk-parallel\"><div class=\"sk-parallel-item\"><div class=\"sk-item\"><div class=\"sk-label-container\"><div class=\"sk-label sk-toggleable\"><input class=\"sk-toggleable__control sk-hidden--visually\" id=\"sk-estimator-id-2\" type=\"checkbox\" ><label for=\"sk-estimator-id-2\" class=\"sk-toggleable__label sk-toggleable__label-arrow\">pipeline-1</label><div class=\"sk-toggleable__content\"><pre>[&#x27;Pclass&#x27;, &#x27;Age&#x27;, &#x27;SibSp&#x27;, &#x27;Parch&#x27;, &#x27;Fare&#x27;]</pre></div></div></div><div class=\"sk-serial\"><div class=\"sk-item\"><div class=\"sk-serial\"><div class=\"sk-item\"><div class=\"sk-estimator sk-toggleable\"><input class=\"sk-toggleable__control sk-hidden--visually\" id=\"sk-estimator-id-3\" type=\"checkbox\" ><label for=\"sk-estimator-id-3\" class=\"sk-toggleable__label sk-toggleable__label-arrow\">SimpleImputer</label><div class=\"sk-toggleable__content\"><pre>SimpleImputer()</pre></div></div></div><div class=\"sk-item\"><div class=\"sk-estimator sk-toggleable\"><input class=\"sk-toggleable__control sk-hidden--visually\" id=\"sk-estimator-id-4\" type=\"checkbox\" ><label for=\"sk-estimator-id-4\" class=\"sk-toggleable__label sk-toggleable__label-arrow\">MinMaxScaler</label><div class=\"sk-toggleable__content\"><pre>MinMaxScaler()</pre></div></div></div></div></div></div></div></div><div class=\"sk-parallel-item\"><div class=\"sk-item\"><div class=\"sk-label-container\"><div class=\"sk-label sk-toggleable\"><input class=\"sk-toggleable__control sk-hidden--visually\" id=\"sk-estimator-id-5\" type=\"checkbox\" ><label for=\"sk-estimator-id-5\" class=\"sk-toggleable__label sk-toggleable__label-arrow\">pipeline-2</label><div class=\"sk-toggleable__content\"><pre>[]</pre></div></div></div><div class=\"sk-serial\"><div class=\"sk-item\"><div class=\"sk-serial\"><div class=\"sk-item\"><div class=\"sk-estimator sk-toggleable\"><input class=\"sk-toggleable__control sk-hidden--visually\" id=\"sk-estimator-id-6\" type=\"checkbox\" ><label for=\"sk-estimator-id-6\" class=\"sk-toggleable__label sk-toggleable__label-arrow\">SimpleImputer</label><div class=\"sk-toggleable__content\"><pre>SimpleImputer(strategy=&#x27;most_frequent&#x27;)</pre></div></div></div></div></div></div></div></div><div class=\"sk-parallel-item\"><div class=\"sk-item\"><div class=\"sk-label-container\"><div class=\"sk-label sk-toggleable\"><input class=\"sk-toggleable__control sk-hidden--visually\" id=\"sk-estimator-id-7\" type=\"checkbox\" ><label for=\"sk-estimator-id-7\" class=\"sk-toggleable__label sk-toggleable__label-arrow\">pipeline-3</label><div class=\"sk-toggleable__content\"><pre>[&#x27;Sex&#x27;, &#x27;Embarked&#x27;]</pre></div></div></div><div class=\"sk-serial\"><div class=\"sk-item\"><div class=\"sk-serial\"><div class=\"sk-item\"><div class=\"sk-estimator sk-toggleable\"><input class=\"sk-toggleable__control sk-hidden--visually\" id=\"sk-estimator-id-8\" type=\"checkbox\" ><label for=\"sk-estimator-id-8\" class=\"sk-toggleable__label sk-toggleable__label-arrow\">SimpleImputer</label><div class=\"sk-toggleable__content\"><pre>SimpleImputer(strategy=&#x27;most_frequent&#x27;)</pre></div></div></div><div class=\"sk-item\"><div class=\"sk-estimator sk-toggleable\"><input class=\"sk-toggleable__control sk-hidden--visually\" id=\"sk-estimator-id-9\" type=\"checkbox\" ><label for=\"sk-estimator-id-9\" class=\"sk-toggleable__label sk-toggleable__label-arrow\">OneHotEncoder</label><div class=\"sk-toggleable__content\"><pre>OneHotEncoder(drop=&#x27;if_binary&#x27;, handle_unknown=&#x27;ignore&#x27;, sparse_output=False)</pre></div></div></div></div></div></div></div></div><div class=\"sk-parallel-item\"><div class=\"sk-item\"><div class=\"sk-label-container\"><div class=\"sk-label sk-toggleable\"><input class=\"sk-toggleable__control sk-hidden--visually\" id=\"sk-estimator-id-10\" type=\"checkbox\" ><label for=\"sk-estimator-id-10\" class=\"sk-toggleable__label sk-toggleable__label-arrow\">remainder</label><div class=\"sk-toggleable__content\"><pre></pre></div></div></div><div class=\"sk-serial\"><div class=\"sk-item\"><div class=\"sk-estimator sk-toggleable\"><input class=\"sk-toggleable__control sk-hidden--visually\" id=\"sk-estimator-id-11\" type=\"checkbox\" ><label for=\"sk-estimator-id-11\" class=\"sk-toggleable__label sk-toggleable__label-arrow\">passthrough</label><div class=\"sk-toggleable__content\"><pre>passthrough</pre></div></div></div></div></div></div></div></div></div></div>"
      ],
      "text/plain": [
       "ColumnTransformer(remainder='passthrough',\n",
       "                  transformers=[('pipeline-1',\n",
       "                                 Pipeline(steps=[('simpleimputer',\n",
       "                                                  SimpleImputer()),\n",
       "                                                 ('minmaxscaler',\n",
       "                                                  MinMaxScaler())]),\n",
       "                                 ['Pclass', 'Age', 'SibSp', 'Parch', 'Fare']),\n",
       "                                ('pipeline-2',\n",
       "                                 Pipeline(steps=[('simpleimputer',\n",
       "                                                  SimpleImputer(strategy='most_frequent'))]),\n",
       "                                 []),\n",
       "                                ('pipeline-3',\n",
       "                                 Pipeline(steps=[('simpleimputer',\n",
       "                                                  SimpleImputer(strategy='most_frequent')),\n",
       "                                                 ('onehotencoder',\n",
       "                                                  OneHotEncoder(drop='if_binary',\n",
       "                                                                handle_unknown='ignore',\n",
       "                                                                sparse_output=False))]),\n",
       "                                 ['Sex', 'Embarked'])])"
      ]
     },
     "metadata": {},
     "output_type": "display_data"
    }
   ],
   "source": [
    "#transformer for numerical data\n",
    "preproc_num = make_pipeline(\n",
    "    SimpleImputer(strategy='mean'),\n",
    "    MinMaxScaler()\n",
    ")\n",
    "\n",
    "preproc_cat_ordinal = make_pipeline(\n",
    "    SimpleImputer(strategy='most_frequent')\n",
    ")\n",
    "\n",
    "preproc_cat_onehot = make_pipeline(\n",
    "    SimpleImputer(strategy='most_frequent'),\n",
    "    OneHotEncoder(\n",
    "        drop = 'if_binary',\n",
    "        sparse_output=False,\n",
    "        handle_unknown='ignore')\n",
    ")\n",
    "\n",
    "preproc_pipeline = make_column_transformer(\n",
    "    (preproc_num, feature_numerical),\n",
    "    (preproc_cat_ordinal, feature_categorical_Ordinal),\n",
    "    (preproc_cat_onehot, feature_categorical_OneHot),\n",
    "    remainder='passthrough'\n",
    ")\n",
    "\n",
    "display(preproc_pipeline)"
   ]
  },
  {
   "cell_type": "code",
   "execution_count": null,
   "id": "a52bb6d5",
   "metadata": {
    "ExecuteTime": {
     "end_time": "2023-05-24T03:25:51.760089Z",
     "start_time": "2023-05-24T03:25:51.717741Z"
    },
    "hidden": true
   },
   "outputs": [],
   "source": [
    "preproc_pipeline.fit(X)"
   ]
  },
  {
   "cell_type": "markdown",
   "id": "eef9ec6f",
   "metadata": {
    "heading_collapsed": true
   },
   "source": [
    "# Model"
   ]
  },
  {
   "cell_type": "markdown",
   "id": "68a64b6c",
   "metadata": {
    "ExecuteTime": {
     "end_time": "2023-05-25T16:23:23.484055Z",
     "start_time": "2023-05-25T16:23:23.480999Z"
    },
    "heading_collapsed": true,
    "hidden": true
   },
   "source": [
    "## Custom Loss Function"
   ]
  },
  {
   "cell_type": "code",
   "execution_count": 66,
   "id": "97414f9a",
   "metadata": {
    "ExecuteTime": {
     "end_time": "2023-05-25T16:24:01.790940Z",
     "start_time": "2023-05-25T16:24:01.786478Z"
    },
    "hidden": true
   },
   "outputs": [],
   "source": [
    "# EXAMPLE:\n",
    "def my_rmsle_neg(y_true, y_pred):\n",
    "    result = -(np.mean((np.log(y_true+1)-np.log(y_pred+1))**2))**0.5\n",
    "    return result \n",
    "\n",
    "from sklearn.metrics import make_scorer\n",
    "rmsle_neg = make_scorer(my_rmsle_neg)"
   ]
  },
  {
   "cell_type": "markdown",
   "id": "8b042141",
   "metadata": {
    "ExecuteTime": {
     "end_time": "2023-05-24T01:44:31.104233Z",
     "start_time": "2023-05-24T01:44:31.100992Z"
    },
    "heading_collapsed": true,
    "hidden": true
   },
   "source": [
    "## Cross Validation"
   ]
  },
  {
   "cell_type": "code",
   "execution_count": 61,
   "id": "6c4504dc",
   "metadata": {
    "ExecuteTime": {
     "end_time": "2023-05-25T16:21:50.020029Z",
     "start_time": "2023-05-25T16:21:47.178265Z"
    },
    "hidden": true
   },
   "outputs": [
    {
     "name": "stdout",
     "output_type": "stream",
     "text": [
      "Baseline score: \u001b[94m0.3772297882905267\u001b[0m \n",
      "of <class 'sklearn.ensemble._forest.RandomForestRegressor'> model \n"
     ]
    }
   ],
   "source": [
    "# cv_model = KNeighborsClassifier() #Baseline score: -0.3278517946119624\n",
    "# cv_model = SVC() #Baseline score: -0.3369862693961591 \n",
    "# cv_model = SVC(kernel='poly') #Baseline score: -0.2761102147519752 \n",
    "# cv_model = SVC(kernel='linear') #Baseline score: -0.24822940772121438 \n",
    "# cv_model = DecisionTreeRegressor(max_depth=6) # Baseline score: -0.20116124161062304\n",
    "# cv_model = LinearRegression() #Baseline score: -0.17873011648173293 \n",
    "# cv_model = LogisticRegression(max_iter=2000) #Baseline score: -0.2522674044146145 \n",
    "cv_model = RandomForestRegressor() # Baseline score: -0.1470104740488312\n",
    "cv_baseline = make_pipeline(\n",
    "    preproc_pipeline,\n",
    "    cv_model\n",
    ")\n",
    "\n",
    "cv_result = cross_val_score(\n",
    "    cv_baseline,\n",
    "    X, \n",
    "    y, \n",
    "    cv=5,\n",
    "#     scoring='',\n",
    "    n_jobs=-1)\n",
    "score_baseline=np.mean(cv_result)\n",
    "print(f'Baseline score: \\033[94m{score_baseline}\\033[0m \\nof {type(cv_model)} model ')"
   ]
  },
  {
   "cell_type": "markdown",
   "id": "ac8a2beb",
   "metadata": {
    "heading_collapsed": true,
    "hidden": true
   },
   "source": [
    "## Grid/Random Search"
   ]
  },
  {
   "cell_type": "markdown",
   "id": "38f1b8bc",
   "metadata": {
    "ExecuteTime": {
     "end_time": "2023-05-24T02:08:25.822466Z",
     "start_time": "2023-05-24T02:08:25.819259Z"
    },
    "heading_collapsed": true,
    "hidden": true
   },
   "source": [
    "### KNN"
   ]
  },
  {
   "cell_type": "code",
   "execution_count": null,
   "id": "90adfc3e",
   "metadata": {
    "ExecuteTime": {
     "end_time": "2023-05-24T03:26:15.683143Z",
     "start_time": "2023-05-24T03:26:13.935025Z"
    },
    "hidden": true,
    "scrolled": true
   },
   "outputs": [],
   "source": [
    "knn_pipeline = make_pipeline(\n",
    "    preproc_pipeline, \n",
    "    KNeighborsRegressor()\n",
    ")\n",
    "\n",
    "knn_param_grid={\n",
    "    '__n_neighbors': list(range(1,20,1))\n",
    "}\n",
    "knn_search = GridSearchCV(knn_pipeline, \n",
    "                      knn_param_grid, \n",
    "                      cv=5, \n",
    "                      scoring='r2', \n",
    "                      n_jobs=-1)\n",
    "knn_search.fit(X, y)"
   ]
  },
  {
   "cell_type": "code",
   "execution_count": null,
   "id": "7e6ee6f9",
   "metadata": {
    "ExecuteTime": {
     "end_time": "2023-05-24T02:08:13.137643Z",
     "start_time": "2023-05-24T02:08:13.118713Z"
    },
    "hidden": true
   },
   "outputs": [],
   "source": [
    "knn_best_model = knn_search.best_estimator_\n",
    "print(knn_search.best_score_)\n",
    "print(knn_search.best_params_)"
   ]
  },
  {
   "cell_type": "markdown",
   "id": "455db35a",
   "metadata": {
    "heading_collapsed": true,
    "hidden": true
   },
   "source": [
    "### Random Foreast"
   ]
  },
  {
   "cell_type": "code",
   "execution_count": 62,
   "id": "958c9977",
   "metadata": {
    "ExecuteTime": {
     "end_time": "2023-05-25T16:22:32.839765Z",
     "start_time": "2023-05-25T16:22:32.753002Z"
    },
    "hidden": true
   },
   "outputs": [
    {
     "data": {
      "text/html": [
       "<style>#sk-container-id-2 {color: black;background-color: white;}#sk-container-id-2 pre{padding: 0;}#sk-container-id-2 div.sk-toggleable {background-color: white;}#sk-container-id-2 label.sk-toggleable__label {cursor: pointer;display: block;width: 100%;margin-bottom: 0;padding: 0.3em;box-sizing: border-box;text-align: center;}#sk-container-id-2 label.sk-toggleable__label-arrow:before {content: \"▸\";float: left;margin-right: 0.25em;color: #696969;}#sk-container-id-2 label.sk-toggleable__label-arrow:hover:before {color: black;}#sk-container-id-2 div.sk-estimator:hover label.sk-toggleable__label-arrow:before {color: black;}#sk-container-id-2 div.sk-toggleable__content {max-height: 0;max-width: 0;overflow: hidden;text-align: left;background-color: #f0f8ff;}#sk-container-id-2 div.sk-toggleable__content pre {margin: 0.2em;color: black;border-radius: 0.25em;background-color: #f0f8ff;}#sk-container-id-2 input.sk-toggleable__control:checked~div.sk-toggleable__content {max-height: 200px;max-width: 100%;overflow: auto;}#sk-container-id-2 input.sk-toggleable__control:checked~label.sk-toggleable__label-arrow:before {content: \"▾\";}#sk-container-id-2 div.sk-estimator input.sk-toggleable__control:checked~label.sk-toggleable__label {background-color: #d4ebff;}#sk-container-id-2 div.sk-label input.sk-toggleable__control:checked~label.sk-toggleable__label {background-color: #d4ebff;}#sk-container-id-2 input.sk-hidden--visually {border: 0;clip: rect(1px 1px 1px 1px);clip: rect(1px, 1px, 1px, 1px);height: 1px;margin: -1px;overflow: hidden;padding: 0;position: absolute;width: 1px;}#sk-container-id-2 div.sk-estimator {font-family: monospace;background-color: #f0f8ff;border: 1px dotted black;border-radius: 0.25em;box-sizing: border-box;margin-bottom: 0.5em;}#sk-container-id-2 div.sk-estimator:hover {background-color: #d4ebff;}#sk-container-id-2 div.sk-parallel-item::after {content: \"\";width: 100%;border-bottom: 1px solid gray;flex-grow: 1;}#sk-container-id-2 div.sk-label:hover label.sk-toggleable__label {background-color: #d4ebff;}#sk-container-id-2 div.sk-serial::before {content: \"\";position: absolute;border-left: 1px solid gray;box-sizing: border-box;top: 0;bottom: 0;left: 50%;z-index: 0;}#sk-container-id-2 div.sk-serial {display: flex;flex-direction: column;align-items: center;background-color: white;padding-right: 0.2em;padding-left: 0.2em;position: relative;}#sk-container-id-2 div.sk-item {position: relative;z-index: 1;}#sk-container-id-2 div.sk-parallel {display: flex;align-items: stretch;justify-content: center;background-color: white;position: relative;}#sk-container-id-2 div.sk-item::before, #sk-container-id-2 div.sk-parallel-item::before {content: \"\";position: absolute;border-left: 1px solid gray;box-sizing: border-box;top: 0;bottom: 0;left: 50%;z-index: -1;}#sk-container-id-2 div.sk-parallel-item {display: flex;flex-direction: column;z-index: 1;position: relative;background-color: white;}#sk-container-id-2 div.sk-parallel-item:first-child::after {align-self: flex-end;width: 50%;}#sk-container-id-2 div.sk-parallel-item:last-child::after {align-self: flex-start;width: 50%;}#sk-container-id-2 div.sk-parallel-item:only-child::after {width: 0;}#sk-container-id-2 div.sk-dashed-wrapped {border: 1px dashed gray;margin: 0 0.4em 0.5em 0.4em;box-sizing: border-box;padding-bottom: 0.4em;background-color: white;}#sk-container-id-2 div.sk-label label {font-family: monospace;font-weight: bold;display: inline-block;line-height: 1.2em;}#sk-container-id-2 div.sk-label-container {text-align: center;}#sk-container-id-2 div.sk-container {/* jupyter's `normalize.less` sets `[hidden] { display: none; }` but bootstrap.min.css set `[hidden] { display: none !important; }` so we also need the `!important` here to be able to override the default hidden behavior on the sphinx rendered scikit-learn.org. See: https://github.com/scikit-learn/scikit-learn/issues/21755 */display: inline-block !important;position: relative;}#sk-container-id-2 div.sk-text-repr-fallback {display: none;}</style><div id=\"sk-container-id-2\" class=\"sk-top-container\"><div class=\"sk-text-repr-fallback\"><pre>Pipeline(steps=[(&#x27;preprocessing&#x27;,\n",
       "                 ColumnTransformer(remainder=&#x27;passthrough&#x27;,\n",
       "                                   transformers=[(&#x27;pipeline-1&#x27;,\n",
       "                                                  Pipeline(steps=[(&#x27;simpleimputer&#x27;,\n",
       "                                                                   SimpleImputer()),\n",
       "                                                                  (&#x27;minmaxscaler&#x27;,\n",
       "                                                                   MinMaxScaler())]),\n",
       "                                                  [&#x27;Pclass&#x27;, &#x27;Age&#x27;, &#x27;SibSp&#x27;,\n",
       "                                                   &#x27;Parch&#x27;, &#x27;Fare&#x27;]),\n",
       "                                                 (&#x27;pipeline-2&#x27;,\n",
       "                                                  Pipeline(steps=[(&#x27;simpleimputer&#x27;,\n",
       "                                                                   SimpleImputer(strategy=&#x27;most_frequent&#x27;))]),\n",
       "                                                  []),\n",
       "                                                 (&#x27;pipeline-3&#x27;,\n",
       "                                                  Pipeline(steps=[(&#x27;simpleimputer&#x27;,\n",
       "                                                                   SimpleImputer(strategy=&#x27;most_frequent&#x27;)),\n",
       "                                                                  (&#x27;onehotencoder&#x27;,\n",
       "                                                                   OneHotEncoder(drop=&#x27;if_binary&#x27;,\n",
       "                                                                                 handle_unknown=&#x27;ignore&#x27;,\n",
       "                                                                                 sparse_output=False))]),\n",
       "                                                  [&#x27;Sex&#x27;, &#x27;Embarked&#x27;])])),\n",
       "                (&#x27;modelling&#x27;, RandomForestRegressor(n_jobs=-1))])</pre><b>In a Jupyter environment, please rerun this cell to show the HTML representation or trust the notebook. <br />On GitHub, the HTML representation is unable to render, please try loading this page with nbviewer.org.</b></div><div class=\"sk-container\" hidden><div class=\"sk-item sk-dashed-wrapped\"><div class=\"sk-label-container\"><div class=\"sk-label sk-toggleable\"><input class=\"sk-toggleable__control sk-hidden--visually\" id=\"sk-estimator-id-12\" type=\"checkbox\" ><label for=\"sk-estimator-id-12\" class=\"sk-toggleable__label sk-toggleable__label-arrow\">Pipeline</label><div class=\"sk-toggleable__content\"><pre>Pipeline(steps=[(&#x27;preprocessing&#x27;,\n",
       "                 ColumnTransformer(remainder=&#x27;passthrough&#x27;,\n",
       "                                   transformers=[(&#x27;pipeline-1&#x27;,\n",
       "                                                  Pipeline(steps=[(&#x27;simpleimputer&#x27;,\n",
       "                                                                   SimpleImputer()),\n",
       "                                                                  (&#x27;minmaxscaler&#x27;,\n",
       "                                                                   MinMaxScaler())]),\n",
       "                                                  [&#x27;Pclass&#x27;, &#x27;Age&#x27;, &#x27;SibSp&#x27;,\n",
       "                                                   &#x27;Parch&#x27;, &#x27;Fare&#x27;]),\n",
       "                                                 (&#x27;pipeline-2&#x27;,\n",
       "                                                  Pipeline(steps=[(&#x27;simpleimputer&#x27;,\n",
       "                                                                   SimpleImputer(strategy=&#x27;most_frequent&#x27;))]),\n",
       "                                                  []),\n",
       "                                                 (&#x27;pipeline-3&#x27;,\n",
       "                                                  Pipeline(steps=[(&#x27;simpleimputer&#x27;,\n",
       "                                                                   SimpleImputer(strategy=&#x27;most_frequent&#x27;)),\n",
       "                                                                  (&#x27;onehotencoder&#x27;,\n",
       "                                                                   OneHotEncoder(drop=&#x27;if_binary&#x27;,\n",
       "                                                                                 handle_unknown=&#x27;ignore&#x27;,\n",
       "                                                                                 sparse_output=False))]),\n",
       "                                                  [&#x27;Sex&#x27;, &#x27;Embarked&#x27;])])),\n",
       "                (&#x27;modelling&#x27;, RandomForestRegressor(n_jobs=-1))])</pre></div></div></div><div class=\"sk-serial\"><div class=\"sk-item sk-dashed-wrapped\"><div class=\"sk-label-container\"><div class=\"sk-label sk-toggleable\"><input class=\"sk-toggleable__control sk-hidden--visually\" id=\"sk-estimator-id-13\" type=\"checkbox\" ><label for=\"sk-estimator-id-13\" class=\"sk-toggleable__label sk-toggleable__label-arrow\">preprocessing: ColumnTransformer</label><div class=\"sk-toggleable__content\"><pre>ColumnTransformer(remainder=&#x27;passthrough&#x27;,\n",
       "                  transformers=[(&#x27;pipeline-1&#x27;,\n",
       "                                 Pipeline(steps=[(&#x27;simpleimputer&#x27;,\n",
       "                                                  SimpleImputer()),\n",
       "                                                 (&#x27;minmaxscaler&#x27;,\n",
       "                                                  MinMaxScaler())]),\n",
       "                                 [&#x27;Pclass&#x27;, &#x27;Age&#x27;, &#x27;SibSp&#x27;, &#x27;Parch&#x27;, &#x27;Fare&#x27;]),\n",
       "                                (&#x27;pipeline-2&#x27;,\n",
       "                                 Pipeline(steps=[(&#x27;simpleimputer&#x27;,\n",
       "                                                  SimpleImputer(strategy=&#x27;most_frequent&#x27;))]),\n",
       "                                 []),\n",
       "                                (&#x27;pipeline-3&#x27;,\n",
       "                                 Pipeline(steps=[(&#x27;simpleimputer&#x27;,\n",
       "                                                  SimpleImputer(strategy=&#x27;most_frequent&#x27;)),\n",
       "                                                 (&#x27;onehotencoder&#x27;,\n",
       "                                                  OneHotEncoder(drop=&#x27;if_binary&#x27;,\n",
       "                                                                handle_unknown=&#x27;ignore&#x27;,\n",
       "                                                                sparse_output=False))]),\n",
       "                                 [&#x27;Sex&#x27;, &#x27;Embarked&#x27;])])</pre></div></div></div><div class=\"sk-parallel\"><div class=\"sk-parallel-item\"><div class=\"sk-item\"><div class=\"sk-label-container\"><div class=\"sk-label sk-toggleable\"><input class=\"sk-toggleable__control sk-hidden--visually\" id=\"sk-estimator-id-14\" type=\"checkbox\" ><label for=\"sk-estimator-id-14\" class=\"sk-toggleable__label sk-toggleable__label-arrow\">pipeline-1</label><div class=\"sk-toggleable__content\"><pre>[&#x27;Pclass&#x27;, &#x27;Age&#x27;, &#x27;SibSp&#x27;, &#x27;Parch&#x27;, &#x27;Fare&#x27;]</pre></div></div></div><div class=\"sk-serial\"><div class=\"sk-item\"><div class=\"sk-serial\"><div class=\"sk-item\"><div class=\"sk-estimator sk-toggleable\"><input class=\"sk-toggleable__control sk-hidden--visually\" id=\"sk-estimator-id-15\" type=\"checkbox\" ><label for=\"sk-estimator-id-15\" class=\"sk-toggleable__label sk-toggleable__label-arrow\">SimpleImputer</label><div class=\"sk-toggleable__content\"><pre>SimpleImputer()</pre></div></div></div><div class=\"sk-item\"><div class=\"sk-estimator sk-toggleable\"><input class=\"sk-toggleable__control sk-hidden--visually\" id=\"sk-estimator-id-16\" type=\"checkbox\" ><label for=\"sk-estimator-id-16\" class=\"sk-toggleable__label sk-toggleable__label-arrow\">MinMaxScaler</label><div class=\"sk-toggleable__content\"><pre>MinMaxScaler()</pre></div></div></div></div></div></div></div></div><div class=\"sk-parallel-item\"><div class=\"sk-item\"><div class=\"sk-label-container\"><div class=\"sk-label sk-toggleable\"><input class=\"sk-toggleable__control sk-hidden--visually\" id=\"sk-estimator-id-17\" type=\"checkbox\" ><label for=\"sk-estimator-id-17\" class=\"sk-toggleable__label sk-toggleable__label-arrow\">pipeline-2</label><div class=\"sk-toggleable__content\"><pre>[]</pre></div></div></div><div class=\"sk-serial\"><div class=\"sk-item\"><div class=\"sk-serial\"><div class=\"sk-item\"><div class=\"sk-estimator sk-toggleable\"><input class=\"sk-toggleable__control sk-hidden--visually\" id=\"sk-estimator-id-18\" type=\"checkbox\" ><label for=\"sk-estimator-id-18\" class=\"sk-toggleable__label sk-toggleable__label-arrow\">SimpleImputer</label><div class=\"sk-toggleable__content\"><pre>SimpleImputer(strategy=&#x27;most_frequent&#x27;)</pre></div></div></div></div></div></div></div></div><div class=\"sk-parallel-item\"><div class=\"sk-item\"><div class=\"sk-label-container\"><div class=\"sk-label sk-toggleable\"><input class=\"sk-toggleable__control sk-hidden--visually\" id=\"sk-estimator-id-19\" type=\"checkbox\" ><label for=\"sk-estimator-id-19\" class=\"sk-toggleable__label sk-toggleable__label-arrow\">pipeline-3</label><div class=\"sk-toggleable__content\"><pre>[&#x27;Sex&#x27;, &#x27;Embarked&#x27;]</pre></div></div></div><div class=\"sk-serial\"><div class=\"sk-item\"><div class=\"sk-serial\"><div class=\"sk-item\"><div class=\"sk-estimator sk-toggleable\"><input class=\"sk-toggleable__control sk-hidden--visually\" id=\"sk-estimator-id-20\" type=\"checkbox\" ><label for=\"sk-estimator-id-20\" class=\"sk-toggleable__label sk-toggleable__label-arrow\">SimpleImputer</label><div class=\"sk-toggleable__content\"><pre>SimpleImputer(strategy=&#x27;most_frequent&#x27;)</pre></div></div></div><div class=\"sk-item\"><div class=\"sk-estimator sk-toggleable\"><input class=\"sk-toggleable__control sk-hidden--visually\" id=\"sk-estimator-id-21\" type=\"checkbox\" ><label for=\"sk-estimator-id-21\" class=\"sk-toggleable__label sk-toggleable__label-arrow\">OneHotEncoder</label><div class=\"sk-toggleable__content\"><pre>OneHotEncoder(drop=&#x27;if_binary&#x27;, handle_unknown=&#x27;ignore&#x27;, sparse_output=False)</pre></div></div></div></div></div></div></div></div><div class=\"sk-parallel-item\"><div class=\"sk-item\"><div class=\"sk-label-container\"><div class=\"sk-label sk-toggleable\"><input class=\"sk-toggleable__control sk-hidden--visually\" id=\"sk-estimator-id-22\" type=\"checkbox\" ><label for=\"sk-estimator-id-22\" class=\"sk-toggleable__label sk-toggleable__label-arrow\">remainder</label><div class=\"sk-toggleable__content\"><pre></pre></div></div></div><div class=\"sk-serial\"><div class=\"sk-item\"><div class=\"sk-estimator sk-toggleable\"><input class=\"sk-toggleable__control sk-hidden--visually\" id=\"sk-estimator-id-23\" type=\"checkbox\" ><label for=\"sk-estimator-id-23\" class=\"sk-toggleable__label sk-toggleable__label-arrow\">passthrough</label><div class=\"sk-toggleable__content\"><pre>passthrough</pre></div></div></div></div></div></div></div></div><div class=\"sk-item\"><div class=\"sk-estimator sk-toggleable\"><input class=\"sk-toggleable__control sk-hidden--visually\" id=\"sk-estimator-id-24\" type=\"checkbox\" ><label for=\"sk-estimator-id-24\" class=\"sk-toggleable__label sk-toggleable__label-arrow\">RandomForestRegressor</label><div class=\"sk-toggleable__content\"><pre>RandomForestRegressor(n_jobs=-1)</pre></div></div></div></div></div></div></div>"
      ],
      "text/plain": [
       "Pipeline(steps=[('preprocessing',\n",
       "                 ColumnTransformer(remainder='passthrough',\n",
       "                                   transformers=[('pipeline-1',\n",
       "                                                  Pipeline(steps=[('simpleimputer',\n",
       "                                                                   SimpleImputer()),\n",
       "                                                                  ('minmaxscaler',\n",
       "                                                                   MinMaxScaler())]),\n",
       "                                                  ['Pclass', 'Age', 'SibSp',\n",
       "                                                   'Parch', 'Fare']),\n",
       "                                                 ('pipeline-2',\n",
       "                                                  Pipeline(steps=[('simpleimputer',\n",
       "                                                                   SimpleImputer(strategy='most_frequent'))]),\n",
       "                                                  []),\n",
       "                                                 ('pipeline-3',\n",
       "                                                  Pipeline(steps=[('simpleimputer',\n",
       "                                                                   SimpleImputer(strategy='most_frequent')),\n",
       "                                                                  ('onehotencoder',\n",
       "                                                                   OneHotEncoder(drop='if_binary',\n",
       "                                                                                 handle_unknown='ignore',\n",
       "                                                                                 sparse_output=False))]),\n",
       "                                                  ['Sex', 'Embarked'])])),\n",
       "                ('modelling', RandomForestRegressor(n_jobs=-1))])"
      ]
     },
     "execution_count": 62,
     "metadata": {},
     "output_type": "execute_result"
    }
   ],
   "source": [
    "rf_pipeline = Pipeline([\n",
    "    ('preprocessing', preproc_pipeline),\n",
    "    ('modelling', RandomForestRegressor(n_jobs=-1))\n",
    "])\n",
    "\n",
    "rf_pipeline"
   ]
  },
  {
   "cell_type": "code",
   "execution_count": 68,
   "id": "15d8bb9c",
   "metadata": {
    "ExecuteTime": {
     "end_time": "2023-05-25T16:24:40.748884Z",
     "start_time": "2023-05-25T16:24:37.820581Z"
    },
    "hidden": true
   },
   "outputs": [
    {
     "data": {
      "text/plain": [
       "-0.26452167983099206"
      ]
     },
     "execution_count": 68,
     "metadata": {},
     "output_type": "execute_result"
    }
   ],
   "source": [
    "from sklearn.model_selection import RandomizedSearchCV\n",
    "from scipy.stats import randint\n",
    "# Random search \n",
    "rf_random_search = RandomizedSearchCV(\n",
    "    rf_pipeline, \n",
    "    param_distributions ={\n",
    "        'modelling__max_depth': randint(15,30),\n",
    "        'modelling__min_samples_split' : randint(2,5)},\n",
    "    cv=5,\n",
    "    n_iter = 10,\n",
    "    scoring=rmsle_neg,\n",
    "    n_jobs=-1\n",
    "    )\n",
    "\n",
    "rf_random_search.fit(X,y)\n",
    "\n",
    "rf_tuned_pipe = rf_random_search.best_estimator_\n",
    "rf_random_search.best_score_"
   ]
  },
  {
   "cell_type": "markdown",
   "id": "5393935e",
   "metadata": {
    "heading_collapsed": true,
    "hidden": true
   },
   "source": [
    "### SVM"
   ]
  },
  {
   "cell_type": "code",
   "execution_count": null,
   "id": "d18d39fb",
   "metadata": {
    "hidden": true
   },
   "outputs": [],
   "source": []
  },
  {
   "cell_type": "code",
   "execution_count": null,
   "id": "2d48188a",
   "metadata": {
    "hidden": true
   },
   "outputs": [],
   "source": []
  }
 ],
 "metadata": {
  "kernelspec": {
   "display_name": "Python 3 (ipykernel)",
   "language": "python",
   "name": "python3"
  },
  "language_info": {
   "codemirror_mode": {
    "name": "ipython",
    "version": 3
   },
   "file_extension": ".py",
   "mimetype": "text/x-python",
   "name": "python",
   "nbconvert_exporter": "python",
   "pygments_lexer": "ipython3",
   "version": "3.10.6"
  },
  "toc": {
   "base_numbering": 1,
   "nav_menu": {},
   "number_sections": true,
   "sideBar": true,
   "skip_h1_title": false,
   "title_cell": "Table of Contents",
   "title_sidebar": "Contents",
   "toc_cell": false,
   "toc_position": {
    "height": "calc(100% - 180px)",
    "left": "10px",
    "top": "150px",
    "width": "264px"
   },
   "toc_section_display": true,
   "toc_window_display": true
  }
 },
 "nbformat": 4,
 "nbformat_minor": 5
}

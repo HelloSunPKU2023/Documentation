{
 "cells": [
  {
   "attachments": {},
   "cell_type": "markdown",
   "id": "9466c0b6",
   "metadata": {},
   "source": [
    "# Load Packages"
   ]
  },
  {
   "cell_type": "code",
   "execution_count": null,
   "id": "f55c10ec",
   "metadata": {
    "ExecuteTime": {
     "end_time": "2023-05-25T15:44:41.848503Z",
     "start_time": "2023-05-25T15:44:39.978686Z"
    }
   },
   "outputs": [],
   "source": [
    "import numpy as np\n",
    "import pandas as pd\n",
    "from scipy import stats\n",
    "\n",
    "# visualization\n",
    "import matplotlib.pyplot as plt\n",
    "import seaborn as sns\n",
    "\n",
    "# Preprocessing\n",
    "from sklearn.preprocessing import OneHotEncoder, MinMaxScaler, OrdinalEncoder, StandardScaler, RobustScaler\n",
    "from sklearn.impute import SimpleImputer\n",
    "\n",
    "# Pipeline\n",
    "from sklearn.pipeline import Pipeline, make_pipeline\n",
    "from sklearn.compose import ColumnTransformer, make_column_transformer\n",
    "\n",
    "# Model\n",
    "from sklearn.model_selection import train_test_split\n",
    "from sklearn.model_selection import cross_val_score, cross_validate\n",
    "from sklearn.model_selection import GridSearchCV, RandomizedSearchCV\n",
    "\n",
    "from sklearn.linear_model import Ridge, Lasso, LinearRegression,LogisticRegression\n",
    "from sklearn.neighbors import KNeighborsClassifier\n",
    "from sklearn.neighbors import KNeighborsRegressor\n",
    "from sklearn.svm import SVC, SVR\n",
    "from sklearn.tree import DecisionTreeRegressor\n",
    "from sklearn.ensemble import RandomForestRegressor\n",
    "from sklearn.decomposition import PCA\n",
    "from sklearn.cluster import KMeans\n",
    "\n",
    "from sklearn import set_config\n",
    "# set_config(display='diagram')\n",
    "\n",
    "import warnings\n",
    "# warnings.filterwarnings('ignore')"
   ]
  },
  {
   "attachments": {},
   "cell_type": "markdown",
   "id": "ec0cfa2f",
   "metadata": {},
   "source": [
    "# Load Data"
   ]
  },
  {
   "attachments": {},
   "cell_type": "markdown",
   "id": "37ae1e1c",
   "metadata": {
    "ExecuteTime": {
     "end_time": "2023-05-25T15:47:12.926543Z",
     "start_time": "2023-05-25T15:47:12.922010Z"
    }
   },
   "source": [
    "> Data Readme\n",
    "https://"
   ]
  },
  {
   "attachments": {},
   "cell_type": "markdown",
   "id": "9fc1221a",
   "metadata": {
    "ExecuteTime": {
     "end_time": "2023-05-24T06:01:25.611302Z",
     "start_time": "2023-05-24T06:01:25.608291Z"
    }
   },
   "source": [
    "## Load RAW data"
   ]
  },
  {
   "cell_type": "code",
   "execution_count": null,
   "id": "b8f988b8",
   "metadata": {
    "ExecuteTime": {
     "end_time": "2023-05-25T15:45:34.287201Z",
     "start_time": "2023-05-25T15:45:34.259057Z"
    }
   },
   "outputs": [],
   "source": [
    "# set data source\n",
    "data_url = 'data/train.csv'\n",
    "\n",
    "# set index column\n",
    "index_col = 'PassengerId'\n",
    "\n",
    "# load data\n",
    "data = pd.read_csv(data_url, index_col=index_col)\n",
    "data.head(5)"
   ]
  },
  {
   "attachments": {},
   "cell_type": "markdown",
   "id": "269d65ba",
   "metadata": {},
   "source": [
    "## Feature-Target split"
   ]
  },
  {
   "cell_type": "code",
   "execution_count": null,
   "id": "0ec46b23",
   "metadata": {
    "ExecuteTime": {
     "end_time": "2023-05-25T15:46:05.808754Z",
     "start_time": "2023-05-25T15:46:05.802946Z"
    }
   },
   "outputs": [],
   "source": [
    "# define the target column in the train dataset\n",
    "target = 'Survived'\n",
    "\n",
    "# split columns into X and y\n",
    "X = data.drop(columns = target).copy()\n",
    "y = data[target]\n",
    "\n",
    "# check the shape of the data\n",
    "print(f'shape of X is \\033[94m{X.shape}\\033[0m, shape of y is \\033[94m{y.shape}\\033[0m')"
   ]
  },
  {
   "attachments": {},
   "cell_type": "markdown",
   "id": "16fb3079",
   "metadata": {
    "ExecuteTime": {
     "end_time": "2023-05-24T06:07:23.217559Z",
     "start_time": "2023-05-24T06:07:23.214704Z"
    }
   },
   "source": [
    "## Missing Values"
   ]
  },
  {
   "cell_type": "code",
   "execution_count": null,
   "id": "cad36ef3",
   "metadata": {
    "ExecuteTime": {
     "end_time": "2023-05-25T15:52:11.159291Z",
     "start_time": "2023-05-25T15:52:11.017489Z"
    },
    "scrolled": true
   },
   "outputs": [],
   "source": [
    "#filter all the features with missing values\n",
    "feature_null= X.isnull().mean().sort_values(ascending = False)\n",
    "feature_null=feature_null[feature_null>0]\n",
    "\n",
    "feature_with_missing_values = feature_null.index.sort_values().to_list()\n",
    "print(f'feature with missing values (\\033[95m{len(feature_with_missing_values)}\\\n",
    "\\033[0m): \\033[94m{feature_with_missing_values}\\033[0m')\n",
    "# visualize\n",
    "plt.figure(figsize=(12, 4))\n",
    "feature_ranks = range(len(feature_null))\n",
    "bar = plt.barh(feature_null.index, feature_null.values, label=[str(x) for x in feature_ranks])\n",
    "plt.gca().invert_yaxis()\n",
    "plt.xlabel('%')\n",
    "plt.title(\"Percentage (%) of missing values\")\n",
    "plt.tight_layout()\n",
    "plt.grid(axis='x')\n",
    "plt.show()"
   ]
  },
  {
   "attachments": {},
   "cell_type": "markdown",
   "id": "90bc8404",
   "metadata": {
    "ExecuteTime": {
     "end_time": "2023-05-24T06:02:58.238855Z",
     "start_time": "2023-05-24T06:02:58.236116Z"
    }
   },
   "source": [
    "## Feature Screening"
   ]
  },
  {
   "cell_type": "code",
   "execution_count": null,
   "id": "2d330426",
   "metadata": {
    "ExecuteTime": {
     "end_time": "2023-05-25T15:57:27.205293Z",
     "start_time": "2023-05-25T15:57:27.195968Z"
    }
   },
   "outputs": [],
   "source": [
    "X = data.drop(columns = target).copy()\n",
    "features_all = X.columns.sort_values().to_list()\n",
    "\n",
    "columns_to_drop = ['Name', 'Ticket', 'Cabin']\n",
    "# columns_to_drop = []\n",
    "\n",
    "X = X.drop(columns=columns_to_drop)\n",
    "\n",
    "feature_numerical = X.select_dtypes(exclude='object').columns.to_list()\n",
    "\n",
    "feature_categorical = X.select_dtypes(include='object').columns.to_list()\n",
    "\n",
    "feature_categorical_Ordinal = []\n",
    "\n",
    "feature_categorical_OneHot = [key for key in feature_categorical \n",
    "                              if key not in feature_categorical_Ordinal]\n",
    "\n",
    "print(f'All features (\\033[95m{len(features_all)}\\\n",
    "\\033[0m): \\033[94m{features_all}\\033[0m')\n",
    "\n",
    "print(f'Features to drop (\\033[91m{len(columns_to_drop)}\\\n",
    "\\033[0m): \\033[94m{columns_to_drop}\\033[0m')\n",
    "\n",
    "print(f'Categorical cat features (\\033[95m{len(feature_categorical)}\\\n",
    "\\033[0m): \\033[94m{feature_categorical}\\033[0m')\n",
    "\n",
    "print(f'Ordinal cat features (\\036[95m{len(feature_categorical_Ordinal)}\\\n",
    "\\033[0m): \\033[94m{feature_categorical_Ordinal}\\033[0m')\n",
    "\n",
    "print(f'None-ordinal cat features (\\033[95m{len(feature_categorical_OneHot)}\\\n",
    "\\033[0m): \\033[94m{feature_categorical_OneHot}\\033[0m')\n",
    "\n",
    "print(f'Numercial features (\\033[95m{len(feature_numerical)}\\\n",
    "\\033[0m): \\033[94m{feature_numerical}\\033[0m')"
   ]
  },
  {
   "attachments": {},
   "cell_type": "markdown",
   "id": "92d3009a",
   "metadata": {},
   "source": [
    "# Data Exploration"
   ]
  },
  {
   "attachments": {},
   "cell_type": "markdown",
   "id": "5c56c619",
   "metadata": {},
   "source": [
    "## Numerical Features"
   ]
  },
  {
   "attachments": {},
   "cell_type": "markdown",
   "id": "31561c46",
   "metadata": {
    "ExecuteTime": {
     "end_time": "2023-05-25T16:08:53.225441Z",
     "start_time": "2023-05-25T16:08:53.222478Z"
    }
   },
   "source": [
    "### Overview"
   ]
  },
  {
   "cell_type": "code",
   "execution_count": null,
   "id": "8d3a1798",
   "metadata": {
    "ExecuteTime": {
     "end_time": "2023-05-25T16:19:30.580294Z",
     "start_time": "2023-05-25T16:19:29.522293Z"
    },
    "scrolled": true
   },
   "outputs": [],
   "source": [
    "print(f'Numercial features (\\033[95m{len(feature_numerical)}\\\n",
    "\\033[0m): \\033[94m{feature_numerical}\\033[0m')\n",
    "\n",
    "X[feature_numerical].hist(\n",
    "    figsize=(16, 20), \n",
    "    bins=50, \n",
    "    xlabelsize=8, \n",
    "    ylabelsize=8);"
   ]
  },
  {
   "attachments": {},
   "cell_type": "markdown",
   "id": "1b6c83a6",
   "metadata": {
    "ExecuteTime": {
     "end_time": "2023-05-25T16:00:17.672824Z",
     "start_time": "2023-05-25T16:00:17.669972Z"
    }
   },
   "source": [
    "### Corrilations"
   ]
  },
  {
   "cell_type": "code",
   "execution_count": null,
   "id": "9afb89b7",
   "metadata": {
    "ExecuteTime": {
     "end_time": "2023-05-25T15:59:07.293698Z",
     "start_time": "2023-05-25T15:59:07.106806Z"
    }
   },
   "outputs": [],
   "source": [
    "X_num = X[feature_numerical].dropna()\n",
    "\n",
    "sns.heatmap(X_num.corr(), cmap='PuRd')\n",
    "pca = PCA()\n",
    "X_scaled = StandardScaler().fit_transform(X_num)\n",
    "X_pca = pca.fit_transform(X_scaled)"
   ]
  },
  {
   "attachments": {},
   "cell_type": "markdown",
   "id": "76ed8af3",
   "metadata": {},
   "source": [
    "### Principal components Analysis"
   ]
  },
  {
   "cell_type": "code",
   "execution_count": null,
   "id": "366f016e",
   "metadata": {
    "ExecuteTime": {
     "end_time": "2023-05-25T16:01:40.895964Z",
     "start_time": "2023-05-25T16:01:40.720052Z"
    }
   },
   "outputs": [],
   "source": [
    "with plt.style.context('seaborn-deep'):\n",
    "    \n",
    "    # figsize\n",
    "    plt.figure(figsize=(10,6))\n",
    "    \n",
    "    # getting axes\n",
    "    ax = plt.gca()\n",
    "    \n",
    "    # plotting\n",
    "    evr_cumulated = np.cumsum(pca.explained_variance_ratio_)\n",
    "    x_axis_ticks = np.arange(1,evr_cumulated.shape[0]+1)\n",
    "    ax.plot(x_axis_ticks,evr_cumulated,label=\"cumulated variance ratio\",\n",
    "            color=\"purple\",linestyle=\":\",marker=\"D\",markersize=10)\n",
    "    \n",
    "    \n",
    "    # customizing\n",
    "    ax.set_xlabel('Number of Principal Components')\n",
    "    ax.set_ylabel('% cumulated explained variance')\n",
    "    ax.legend(loc=\"upper left\")\n",
    "    ax.set_title('The Elbow Method')\n",
    "    ax.set_xticks(x_axis_ticks)\n",
    "    ax.grid(axis=\"x\",linewidth=0.5)\n",
    "    ax.grid(axis=\"y\",linewidth=0.5)"
   ]
  },
  {
   "attachments": {},
   "cell_type": "markdown",
   "id": "46e4e86a",
   "metadata": {},
   "source": [
    "## Catigorical Features"
   ]
  },
  {
   "attachments": {},
   "cell_type": "markdown",
   "id": "a2fe86c2",
   "metadata": {
    "ExecuteTime": {
     "end_time": "2023-05-25T16:18:49.528798Z",
     "start_time": "2023-05-25T16:18:49.525715Z"
    }
   },
   "source": [
    "### Overview"
   ]
  },
  {
   "cell_type": "code",
   "execution_count": null,
   "id": "df036e03",
   "metadata": {
    "ExecuteTime": {
     "end_time": "2023-05-25T16:12:21.276762Z",
     "start_time": "2023-05-25T16:12:21.081516Z"
    },
    "scrolled": true
   },
   "outputs": [],
   "source": [
    "plot_list=feature_categorical\n",
    "\n",
    "print(f'Categorical cat features (\\033[95m{len(plot_list)}\\\n",
    "\\033[0m): \\033[94m{plot_list}\\033[0m')\n",
    "\n",
    "num_cols = 2  # Number of columns in the grid\n",
    "\n",
    "num_rows = (len(plot_list) - 1) // num_cols + 1  # Number of rows in the grid\n",
    "\n",
    "fig, axes = plt.subplots(num_rows, num_cols, figsize=(4*num_cols, 4*num_rows))\n",
    "\n",
    "# Plot each categorical feature\n",
    "for i, feature in enumerate(plot_list):\n",
    "    ax = axes[i // num_cols, i % num_cols] if num_rows > 1 else axes[i % num_cols]\n",
    "    sns.histplot(data=X, x=feature, kde=False, ax=ax)\n",
    "\n",
    "# Hide unused subplots\n",
    "if len(plot_list) < num_rows * num_cols:\n",
    "    for j in range(len(plot_list), num_rows * num_cols):\n",
    "        axes[j // num_cols, j % num_cols].axis('off')\n",
    "\n",
    "plt.tight_layout()\n",
    "plt.show()"
   ]
  },
  {
   "attachments": {},
   "cell_type": "markdown",
   "id": "42eccf00",
   "metadata": {
    "ExecuteTime": {
     "end_time": "2023-05-25T16:07:37.467818Z",
     "start_time": "2023-05-25T16:07:37.463389Z"
    }
   },
   "source": [
    "### Catigorical Ordinal Features"
   ]
  },
  {
   "cell_type": "code",
   "execution_count": null,
   "id": "88e9ffae",
   "metadata": {
    "ExecuteTime": {
     "end_time": "2023-05-25T16:16:16.538393Z",
     "start_time": "2023-05-25T16:16:16.532939Z"
    }
   },
   "outputs": [],
   "source": [
    "plot_list = feature_categorical_Ordinal\n",
    "\n",
    "print(f'Categorical cat features (\\033[94m{len(plot_list)}\\\n",
    "\\033[0m): \\033[94m{plot_list}\\033[0m')\n",
    "\n",
    "if len(plot_list)>0:\n",
    "    # Assuming 'X' is your DataFrame\n",
    "    num_cols = 4  # Number of columns in the grid\n",
    "    num_rows = (len(plot_list) - 1) // num_cols + 1  # Number of rows in the grid\n",
    "\n",
    "    fig, axes = plt.subplots(num_rows, num_cols, figsize=(4*num_cols, 4*num_rows))\n",
    "\n",
    "    # Plot each categorical feature\n",
    "    for i, feature in enumerate(plot_list):\n",
    "        ax = axes[i // num_cols, i % num_cols] if num_rows > 1 else axes[i % num_cols]\n",
    "        sns.histplot(data=X, x=feature, kde=False, ax=ax)\n",
    "\n",
    "    # Hide unused subplots\n",
    "    if len(plot_list) < num_rows * num_cols:\n",
    "        for j in range(len(plot_list), num_rows * num_cols):\n",
    "            axes[j // num_cols, j % num_cols].axis('off')\n",
    "\n",
    "    plt.tight_layout()\n",
    "    plt.show()"
   ]
  },
  {
   "cell_type": "code",
   "execution_count": null,
   "id": "59d7c7b9",
   "metadata": {
    "ExecuteTime": {
     "end_time": "2023-05-25T16:12:59.802029Z",
     "start_time": "2023-05-25T16:12:59.466148Z"
    }
   },
   "outputs": [],
   "source": [
    "plot_list=feature_categorical_OneHot\n",
    "\n",
    "print(f'Categorical cat features (\\033[94m{len(plot_list)}\\\n",
    "\\033[0m): \\033[94m{plot_list}\\033[0m')\n",
    "\n",
    "if len(plot_list)>0:\n",
    "    # Assuming 'X' is your DataFrame\n",
    "    num_cols = 4  # Number of columns in the grid\n",
    "    num_rows = (len(plot_list) - 1) // num_cols + 1  # Number of rows in the grid\n",
    "\n",
    "    fig, axes = plt.subplots(num_rows, num_cols, figsize=(3*num_cols, 2*num_rows))\n",
    "\n",
    "    # Plot each categorical feature\n",
    "    for i, feature in enumerate(plot_list):\n",
    "        ax = axes[i // num_cols, i % num_cols] if num_rows > 1 else axes[i % num_cols]\n",
    "        sns.histplot(data=X, x=feature, kde=False, ax=ax)\n",
    "\n",
    "    # Hide unused subplots\n",
    "    if len(plot_list) < num_rows * num_cols:\n",
    "        for j in range(len(plot_list), num_rows * num_cols):\n",
    "            axes[j // num_cols, j % num_cols].axis('off')\n",
    "\n",
    "    plt.tight_layout()\n",
    "    plt.show()"
   ]
  },
  {
   "attachments": {},
   "cell_type": "markdown",
   "id": "7904e8d6",
   "metadata": {},
   "source": [
    "### Catigorical Ordinal Features Mapping"
   ]
  },
  {
   "cell_type": "code",
   "execution_count": null,
   "id": "9c602ee7",
   "metadata": {},
   "outputs": [],
   "source": [
    "feat_ordinal_dict = {\n",
    "    # considers \"missing\" as the worse category\n",
    "    \"BsmtCond\": ['missing', 'Po', 'Fa', 'TA', 'Gd'],\n",
    "#     \"BsmtExposure\": ['missing', 'No', 'Mn', 'Av', 'Gd'],\n",
    "#     \"BsmtFinType1\": ['missing', 'Unf', 'LwQ', 'Rec', 'BLQ', 'ALQ', 'GLQ'],\n",
    "#     \"BsmtFinType2\": ['missing', 'Unf', 'LwQ', 'Rec', 'BLQ', 'ALQ', 'GLQ'],\n",
    "    \"BsmtQual\": ['missing', 'Fa', 'TA', 'Gd', 'Ex'],\n",
    "#     \"Electrical\": ['missing', 'Mix', 'FuseP', 'FuseF', 'FuseA', 'SBrkr'],\n",
    "    \"ExterCond\": ['missing', 'Po', 'Fa', 'TA', 'Gd', 'Ex'],\n",
    "    \"ExterQual\": ['missing', 'Fa', 'TA', 'Gd', 'Ex'],\n",
    "#     \"Fence\": ['missing', 'MnWw', 'GdWo', 'MnPrv', 'GdPrv'],\n",
    "    \"FireplaceQu\": ['missing', 'Po', 'Fa', 'TA', 'Gd', 'Ex'],\n",
    "#     \"Functional\": ['missing', 'Sev', 'Maj2', 'Maj1', 'Mod', 'Min2', 'Min1', 'Typ'],\n",
    "#     \"GarageCond\": ['missing', 'Po', 'Fa', 'TA', 'Gd', 'Ex'],\n",
    "#     \"GarageFinish\": ['missing', 'Unf', 'RFn', 'Fin'],\n",
    "#     \"GarageQual\": ['missing', 'Po', 'Fa', 'TA', 'Gd', 'Ex'],\n",
    "    \"HeatingQC\": ['missing', 'Po', 'Fa', 'TA', 'Gd', 'Ex'],\n",
    "    \"KitchenQual\": ['missing', 'Fa', 'TA', 'Gd', 'Ex']\n",
    "#     \"LandContour\": ['missing', 'Low', 'Bnk', 'HLS', 'Lvl'],\n",
    "#     \"LandSlope\": ['missing', 'Sev', 'Mod', 'Gtl'],\n",
    "#     \"LotShape\": ['missing', 'IR3', 'IR2', 'IR1', 'Reg'],\n",
    "#     \"PavedDrive\": ['missing', 'N', 'P', 'Y'],\n",
    "#     \"PoolQC\": ['missing', 'Fa', 'Gd', 'Ex'],\n",
    "}\n",
    "\n",
    "\n",
    "ordinal_features = list(feat_ordinal_dict.keys())\n",
    "ordinal_values = list(feat_ordinal_dict.values())"
   ]
  },
  {
   "attachments": {},
   "cell_type": "markdown",
   "id": "ce223569",
   "metadata": {},
   "source": [
    "### Catigorical OneHot Features"
   ]
  },
  {
   "cell_type": "code",
   "execution_count": null,
   "id": "f4ac0629",
   "metadata": {
    "ExecuteTime": {
     "end_time": "2023-05-25T16:14:20.746907Z",
     "start_time": "2023-05-25T16:14:20.647457Z"
    }
   },
   "outputs": [],
   "source": [
    "# list the number of categories of each OneHot feature\n",
    "feature_cat_value_count= X[feature_categorical_OneHot].nunique().sort_values(ascending=False)\n",
    "feature_cat_value_count=feature_cat_value_count[feature_cat_value_count>0]\n",
    "\n",
    "# visualize\n",
    "plt.figure(figsize=(8, feature_cat_value_count.shape[0]/4))\n",
    "feature_ranks = range(len(feature_null))\n",
    "bar = plt.barh(feature_cat_value_count.index, feature_cat_value_count.values, label=[str(x) for x in feature_ranks])\n",
    "plt.gca().invert_yaxis()\n",
    "plt.xlabel('%')\n",
    "plt.title(\"Number of unique categories\")\n",
    "plt.tight_layout()\n",
    "plt.grid(axis='x')\n",
    "plt.show()"
   ]
  },
  {
   "cell_type": "code",
   "execution_count": null,
   "id": "ed15c834",
   "metadata": {},
   "outputs": [],
   "source": []
  },
  {
   "attachments": {},
   "cell_type": "markdown",
   "id": "bfffd311",
   "metadata": {
    "heading_collapsed": true
   },
   "source": [
    "# Data Preprocessing"
   ]
  },
  {
   "cell_type": "code",
   "execution_count": null,
   "id": "0e2d6bf9",
   "metadata": {
    "ExecuteTime": {
     "end_time": "2023-05-25T16:21:38.193359Z",
     "start_time": "2023-05-25T16:21:38.155282Z"
    },
    "hidden": true
   },
   "outputs": [],
   "source": [
    "#transformer for numerical data\n",
    "preproc_num = make_pipeline(\n",
    "    SimpleImputer(strategy='mean'),\n",
    "    MinMaxScaler()\n",
    ")\n",
    "\n",
    "preproc_cat_ordinal = make_pipeline(\n",
    "    SimpleImputer(strategy='most_frequent')\n",
    ")\n",
    "\n",
    "preproc_cat_onehot = make_pipeline(\n",
    "    SimpleImputer(strategy='most_frequent'),\n",
    "    OneHotEncoder(\n",
    "        drop = 'if_binary',\n",
    "        sparse_output=False,\n",
    "        handle_unknown='ignore')\n",
    ")\n",
    "\n",
    "preproc_pipeline = make_column_transformer(\n",
    "    (preproc_num, feature_numerical),\n",
    "    (preproc_cat_ordinal, feature_categorical_Ordinal),\n",
    "    (preproc_cat_onehot, feature_categorical_OneHot),\n",
    "    remainder='passthrough'\n",
    ")\n",
    "\n",
    "display(preproc_pipeline)"
   ]
  },
  {
   "cell_type": "code",
   "execution_count": null,
   "id": "a52bb6d5",
   "metadata": {
    "ExecuteTime": {
     "end_time": "2023-05-24T03:25:51.760089Z",
     "start_time": "2023-05-24T03:25:51.717741Z"
    },
    "hidden": true
   },
   "outputs": [],
   "source": [
    "preproc_pipeline.fit(X)"
   ]
  },
  {
   "attachments": {},
   "cell_type": "markdown",
   "id": "eef9ec6f",
   "metadata": {},
   "source": [
    "# Model"
   ]
  },
  {
   "attachments": {},
   "cell_type": "markdown",
   "id": "899d1524",
   "metadata": {
    "ExecuteTime": {
     "end_time": "2023-05-25T16:23:23.484055Z",
     "start_time": "2023-05-25T16:23:23.480999Z"
    },
    "heading_collapsed": true
   },
   "source": [
    "## Custom Loss Function"
   ]
  },
  {
   "cell_type": "code",
   "execution_count": null,
   "id": "356c01d9",
   "metadata": {
    "ExecuteTime": {
     "end_time": "2023-05-25T16:24:01.790940Z",
     "start_time": "2023-05-25T16:24:01.786478Z"
    },
    "hidden": true
   },
   "outputs": [],
   "source": [
    "# EXAMPLE:\n",
    "def my_rmsle_neg(y_true, y_pred):\n",
    "    result = -(np.mean((np.log(y_true+1)-np.log(y_pred+1))**2))**0.5\n",
    "    return result \n",
    "\n",
    "from sklearn.metrics import make_scorer\n",
    "rmsle_neg = make_scorer(my_rmsle_neg)"
   ]
  },
  {
   "attachments": {},
   "cell_type": "markdown",
   "id": "8b042141",
   "metadata": {
    "ExecuteTime": {
     "end_time": "2023-05-24T01:44:31.104233Z",
     "start_time": "2023-05-24T01:44:31.100992Z"
    },
    "heading_collapsed": true
   },
   "source": [
    "## Cross Validation"
   ]
  },
  {
   "cell_type": "code",
   "execution_count": null,
   "id": "6c4504dc",
   "metadata": {
    "ExecuteTime": {
     "end_time": "2023-05-25T16:21:50.020029Z",
     "start_time": "2023-05-25T16:21:47.178265Z"
    },
    "hidden": true
   },
   "outputs": [],
   "source": [
    "# cv_model = KNeighborsClassifier() #Baseline score: -0.3278517946119624\n",
    "# cv_model = SVC() #Baseline score: -0.3369862693961591 \n",
    "# cv_model = SVC(kernel='poly') #Baseline score: -0.2761102147519752 \n",
    "# cv_model = SVC(kernel='linear') #Baseline score: -0.24822940772121438 \n",
    "# cv_model = DecisionTreeRegressor(max_depth=6) # Baseline score: -0.20116124161062304\n",
    "# cv_model = LinearRegression() #Baseline score: -0.17873011648173293 \n",
    "# cv_model = LogisticRegression(max_iter=2000) #Baseline score: -0.2522674044146145 \n",
    "cv_model = RandomForestRegressor() # Baseline score: -0.1470104740488312\n",
    "cv_baseline = make_pipeline(\n",
    "    preproc_pipeline,\n",
    "    cv_model\n",
    ")\n",
    "\n",
    "cv_result = cross_val_score(\n",
    "    cv_baseline,\n",
    "    X, \n",
    "    y, \n",
    "    cv=5,\n",
    "#     scoring='',\n",
    "    n_jobs=-1)\n",
    "score_baseline=np.mean(cv_result)\n",
    "print(f'Baseline score: \\033[94m{score_baseline}\\033[0m \\nof {type(cv_model)} model ')"
   ]
  },
  {
   "attachments": {},
   "cell_type": "markdown",
   "id": "ac8a2beb",
   "metadata": {},
   "source": [
    "## Grid/Random Search"
   ]
  },
  {
   "attachments": {},
   "cell_type": "markdown",
   "id": "38f1b8bc",
   "metadata": {
    "ExecuteTime": {
     "end_time": "2023-05-24T02:08:25.822466Z",
     "start_time": "2023-05-24T02:08:25.819259Z"
    },
    "heading_collapsed": true
   },
   "source": [
    "### KNN"
   ]
  },
  {
   "cell_type": "code",
   "execution_count": null,
   "id": "90adfc3e",
   "metadata": {
    "ExecuteTime": {
     "end_time": "2023-05-24T03:26:15.683143Z",
     "start_time": "2023-05-24T03:26:13.935025Z"
    },
    "hidden": true,
    "scrolled": true
   },
   "outputs": [],
   "source": [
    "knn_pipeline = make_pipeline(\n",
    "    preproc_pipeline, \n",
    "    KNeighborsRegressor()\n",
    ")\n",
    "\n",
    "knn_param_grid={\n",
    "    '__n_neighbors': list(range(1,20,1))\n",
    "}\n",
    "knn_search = GridSearchCV(knn_pipeline, \n",
    "                      knn_param_grid, \n",
    "                      cv=5, \n",
    "                      scoring='r2', \n",
    "                      n_jobs=-1)\n",
    "knn_search.fit(X, y)"
   ]
  },
  {
   "cell_type": "code",
   "execution_count": null,
   "id": "7e6ee6f9",
   "metadata": {
    "ExecuteTime": {
     "end_time": "2023-05-24T02:08:13.137643Z",
     "start_time": "2023-05-24T02:08:13.118713Z"
    },
    "hidden": true
   },
   "outputs": [],
   "source": [
    "knn_best_model = knn_search.best_estimator_\n",
    "print(knn_search.best_score_)\n",
    "print(knn_search.best_params_)"
   ]
  },
  {
   "attachments": {},
   "cell_type": "markdown",
   "id": "455db35a",
   "metadata": {
    "heading_collapsed": true
   },
   "source": [
    "### Random Foreast"
   ]
  },
  {
   "cell_type": "code",
   "execution_count": null,
   "id": "958c9977",
   "metadata": {
    "ExecuteTime": {
     "end_time": "2023-05-25T16:22:32.839765Z",
     "start_time": "2023-05-25T16:22:32.753002Z"
    },
    "hidden": true
   },
   "outputs": [],
   "source": [
    "rf_pipeline = Pipeline([\n",
    "    ('preprocessing', preproc_pipeline),\n",
    "    ('modelling', RandomForestRegressor(n_jobs=-1))\n",
    "])\n",
    "\n",
    "rf_pipeline"
   ]
  },
  {
   "cell_type": "code",
   "execution_count": null,
   "id": "b7c8467f",
   "metadata": {
    "ExecuteTime": {
     "end_time": "2023-05-25T16:24:40.748884Z",
     "start_time": "2023-05-25T16:24:37.820581Z"
    },
    "hidden": true
   },
   "outputs": [],
   "source": [
    "from sklearn.model_selection import RandomizedSearchCV\n",
    "from scipy.stats import randint\n",
    "# Random search \n",
    "rf_random_search = RandomizedSearchCV(\n",
    "    rf_pipeline, \n",
    "    param_distributions ={\n",
    "        'modelling__max_depth': randint(15,30),\n",
    "        'modelling__min_samples_split' : randint(2,5)},\n",
    "    cv=5,\n",
    "    n_iter = 10,\n",
    "    scoring=rmsle_neg,\n",
    "    n_jobs=-1\n",
    "    )\n",
    "\n",
    "rf_random_search.fit(X,y)\n",
    "\n",
    "rf_tuned_pipe = rf_random_search.best_estimator_\n",
    "rf_random_search.best_score_"
   ]
  },
  {
   "attachments": {},
   "cell_type": "markdown",
   "id": "5393935e",
   "metadata": {},
   "source": [
    "### SVM"
   ]
  },
  {
   "cell_type": "code",
   "execution_count": null,
   "id": "d18d39fb",
   "metadata": {},
   "outputs": [],
   "source": []
  },
  {
   "cell_type": "code",
   "execution_count": null,
   "id": "2d48188a",
   "metadata": {},
   "outputs": [],
   "source": []
  }
 ],
 "metadata": {
  "kernelspec": {
   "display_name": "Python 3 (ipykernel)",
   "language": "python",
   "name": "python3"
  },
  "language_info": {
   "codemirror_mode": {
    "name": "ipython",
    "version": 3
   },
   "file_extension": ".py",
   "mimetype": "text/x-python",
   "name": "python",
   "nbconvert_exporter": "python",
   "pygments_lexer": "ipython3",
   "version": "3.10.11"
  },
  "toc": {
   "base_numbering": 1,
   "nav_menu": {},
   "number_sections": true,
   "sideBar": true,
   "skip_h1_title": false,
   "title_cell": "Table of Contents",
   "title_sidebar": "Contents",
   "toc_cell": false,
   "toc_position": {
    "height": "calc(100% - 180px)",
    "left": "10px",
    "top": "150px",
    "width": "264px"
   },
   "toc_section_display": true,
   "toc_window_display": true
  }
 },
 "nbformat": 4,
 "nbformat_minor": 5
}
